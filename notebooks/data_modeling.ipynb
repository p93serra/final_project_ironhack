{
  "nbformat": 4,
  "nbformat_minor": 0,
  "metadata": {
    "kernelspec": {
      "display_name": "myenv",
      "language": "python",
      "name": "myenv"
    },
    "language_info": {
      "codemirror_mode": {
        "name": "ipython",
        "version": 3
      },
      "file_extension": ".py",
      "mimetype": "text/x-python",
      "name": "python",
      "nbconvert_exporter": "python",
      "pygments_lexer": "ipython3",
      "version": "3.8.2"
    },
    "colab": {
      "name": "data_modeling.ipynb",
      "provenance": []
    }
  },
  "cells": [
    {
      "cell_type": "markdown",
      "metadata": {
        "id": "EWs_QhKy_OzE"
      },
      "source": [
        "Import libraries"
      ]
    },
    {
      "cell_type": "code",
      "metadata": {
        "id": "1iaJgAQG-fMx"
      },
      "source": [
        "import pandas as pd\n",
        "import numpy as np\n",
        "\n",
        "import matplotlib.pyplot as plt\n",
        "import seaborn as sns\n",
        "%matplotlib inline\n",
        "\n",
        "from sklearn.linear_model      import LinearRegression\n",
        "from sklearn.linear_model      import Lasso\n",
        "from sklearn.model_selection   import train_test_split\n",
        "from sklearn.impute            import SimpleImputer\n",
        "from sklearn.preprocessing     import FunctionTransformer\n",
        "from sklearn.preprocessing     import OneHotEncoder\n",
        "from sklearn.preprocessing     import OrdinalEncoder\n",
        "from sklearn.compose           import ColumnTransformer\n",
        "from sklearn.preprocessing     import StandardScaler\n",
        "from sklearn.pipeline          import Pipeline\n",
        "from sklearn.decomposition     import PCA\n",
        "from sklearn.tree              import DecisionTreeRegressor\n",
        "from sklearn.tree              import DecisionTreeClassifier\n",
        "from sklearn.neighbors         import KNeighborsRegressor\n",
        "from sklearn.neighbors         import KNeighborsClassifier\n",
        "from sklearn.model_selection   import RandomizedSearchCV\n",
        "from sklearn.feature_selection import SelectKBest, SelectFromModel, RFE\n",
        "from sklearn.ensemble          import RandomForestClassifier, AdaBoostClassifier, GradientBoostingClassifier, StackingClassifier\n",
        "from sklearn.ensemble          import RandomForestRegressor, AdaBoostRegressor, GradientBoostingRegressor, StackingRegressor\n",
        "from sklearn.metrics           import mean_squared_error, r2_score, mean_absolute_error, median_absolute_error\n",
        "from sklearn.linear_model      import RidgeCV\n",
        "from sklearn.svm               import SVR, LinearSVR\n",
        "\n",
        "import pickle"
      ],
      "execution_count": 59,
      "outputs": []
    },
    {
      "cell_type": "markdown",
      "metadata": {
        "id": "IecisNTKTrKA"
      },
      "source": [
        "### Import Dataset with +170k songs"
      ]
    },
    {
      "cell_type": "code",
      "metadata": {
        "id": "wDzCNvr4-fM2"
      },
      "source": [
        "df = pd.read_csv(\"kaggle_data.csv\")"
      ],
      "execution_count": 5,
      "outputs": []
    },
    {
      "cell_type": "code",
      "metadata": {
        "colab": {
          "base_uri": "https://localhost:8080/"
        },
        "id": "-g5DXsVn-fM3",
        "outputId": "18a7494e-4fcf-454e-f16e-d9e6d7c1637e"
      },
      "source": [
        "df.info()"
      ],
      "execution_count": 6,
      "outputs": [
        {
          "output_type": "stream",
          "text": [
            "<class 'pandas.core.frame.DataFrame'>\n",
            "RangeIndex: 174389 entries, 0 to 174388\n",
            "Data columns (total 19 columns):\n",
            " #   Column            Non-Null Count   Dtype  \n",
            "---  ------            --------------   -----  \n",
            " 0   acousticness      174389 non-null  float64\n",
            " 1   artists           174389 non-null  object \n",
            " 2   danceability      174389 non-null  float64\n",
            " 3   duration_ms       174389 non-null  int64  \n",
            " 4   energy            174389 non-null  float64\n",
            " 5   explicit          174389 non-null  int64  \n",
            " 6   id                174389 non-null  object \n",
            " 7   instrumentalness  174389 non-null  float64\n",
            " 8   key               174389 non-null  int64  \n",
            " 9   liveness          174389 non-null  float64\n",
            " 10  loudness          174389 non-null  float64\n",
            " 11  mode              174389 non-null  int64  \n",
            " 12  name              174389 non-null  object \n",
            " 13  popularity        174389 non-null  int64  \n",
            " 14  release_date      174389 non-null  object \n",
            " 15  speechiness       174389 non-null  float64\n",
            " 16  tempo             174389 non-null  float64\n",
            " 17  valence           174389 non-null  float64\n",
            " 18  year              174389 non-null  int64  \n",
            "dtypes: float64(9), int64(6), object(4)\n",
            "memory usage: 25.3+ MB\n"
          ],
          "name": "stdout"
        }
      ]
    },
    {
      "cell_type": "markdown",
      "metadata": {
        "id": "OQsfCtY1T85l"
      },
      "source": [
        "### Data Cleaning"
      ]
    },
    {
      "cell_type": "markdown",
      "metadata": {
        "id": "ZNhWSHOAUD7D"
      },
      "source": [
        "Drop categorical columns that contain single values"
      ]
    },
    {
      "cell_type": "code",
      "metadata": {
        "id": "CO23J6T9-fM5"
      },
      "source": [
        "df.drop(columns=['name', 'artists', 'id'], inplace=True)"
      ],
      "execution_count": 7,
      "outputs": []
    },
    {
      "cell_type": "code",
      "metadata": {
        "colab": {
          "base_uri": "https://localhost:8080/",
          "height": 282
        },
        "id": "954xc6lb-fM5",
        "outputId": "2aa0fb0c-c5d8-465b-cc31-8855504ec3f6"
      },
      "source": [
        "df['popularity'].plot.hist(bins=50)"
      ],
      "execution_count": 8,
      "outputs": [
        {
          "output_type": "execute_result",
          "data": {
            "text/plain": [
              "<matplotlib.axes._subplots.AxesSubplot at 0x7ff5d1215c90>"
            ]
          },
          "metadata": {
            "tags": []
          },
          "execution_count": 8
        },
        {
          "output_type": "display_data",
          "data": {
            "image/png": "[encoded data removed]",
            "text/plain": [
              "<Figure size 432x288 with 1 Axes>"
            ]
          },
          "metadata": {
            "tags": [],
            "needs_background": "light"
          }
        }
      ]
    },
    {
      "cell_type": "code",
      "metadata": {
        "colab": {
          "base_uri": "https://localhost:8080/"
        },
        "id": "ruSuJSw6UfnR",
        "outputId": "318a6dd3-b29f-4daf-8254-eb43e01efd79"
      },
      "source": [
        "(df['popularity'].value_counts()[0] / len(df))*100"
      ],
      "execution_count": 9,
      "outputs": [
        {
          "output_type": "execute_result",
          "data": {
            "text/plain": [
              "23.45618129583861"
            ]
          },
          "metadata": {
            "tags": []
          },
          "execution_count": 9
        }
      ]
    },
    {
      "cell_type": "markdown",
      "metadata": {
        "id": "fOp71JdKU9cI"
      },
      "source": [
        "23% of the songs have a popularity of 0"
      ]
    },
    {
      "cell_type": "markdown",
      "metadata": {
        "id": "YNiYlK0DVCCk"
      },
      "source": [
        "Get the correlation of each parameter with the \"Popularity\""
      ]
    },
    {
      "cell_type": "code",
      "metadata": {
        "id": "ApC34JwT-fM5"
      },
      "source": [
        "corr_matrix = df.corr()"
      ],
      "execution_count": 10,
      "outputs": []
    },
    {
      "cell_type": "code",
      "metadata": {
        "colab": {
          "base_uri": "https://localhost:8080/"
        },
        "id": "cU11Ow65-fM5",
        "outputId": "d5fb59e0-74cb-43e6-d972-701e6043db97"
      },
      "source": [
        "corr_matrix['popularity'].sort_values(ascending=False)"
      ],
      "execution_count": 11,
      "outputs": [
        {
          "output_type": "execute_result",
          "data": {
            "text/plain": [
              "popularity          1.000000\n",
              "year                0.513227\n",
              "loudness            0.337194\n",
              "energy              0.328939\n",
              "explicit            0.152545\n",
              "danceability        0.123746\n",
              "tempo               0.094985\n",
              "valence             0.063471\n",
              "duration_ms         0.024717\n",
              "mode                0.007652\n",
              "key                 0.001951\n",
              "liveness           -0.078959\n",
              "speechiness        -0.195329\n",
              "instrumentalness   -0.300625\n",
              "acousticness       -0.396744\n",
              "Name: popularity, dtype: float64"
            ]
          },
          "metadata": {
            "tags": []
          },
          "execution_count": 11
        }
      ]
    },
    {
      "cell_type": "markdown",
      "metadata": {
        "id": "lFZcpDTSVKIE"
      },
      "source": [
        "Transform the 'release_date' column to Data format"
      ]
    },
    {
      "cell_type": "code",
      "metadata": {
        "id": "CGJiW2qH-fM5"
      },
      "source": [
        "df['release_date'] = pd.to_datetime(df['release_date'])"
      ],
      "execution_count": 12,
      "outputs": []
    },
    {
      "cell_type": "code",
      "metadata": {
        "id": "ErYhelVd-fM6"
      },
      "source": [
        "df['month'] = df['release_date'].dt.month"
      ],
      "execution_count": 13,
      "outputs": []
    },
    {
      "cell_type": "code",
      "metadata": {
        "colab": {
          "base_uri": "https://localhost:8080/"
        },
        "id": "GnMWy-K--fM6",
        "outputId": "e89a4d6c-7fd9-4c9e-dc23-e03de5bfdd0b"
      },
      "source": [
        "df['month'].value_counts()"
      ],
      "execution_count": 14,
      "outputs": [
        {
          "output_type": "execute_result",
          "data": {
            "text/plain": [
              "1     90183\n",
              "12    15399\n",
              "11    10258\n",
              "10     8469\n",
              "9      7676\n",
              "6      7131\n",
              "5      6343\n",
              "3      6339\n",
              "8      6153\n",
              "7      5852\n",
              "4      5553\n",
              "2      5033\n",
              "Name: month, dtype: int64"
            ]
          },
          "metadata": {
            "tags": []
          },
          "execution_count": 14
        }
      ]
    },
    {
      "cell_type": "markdown",
      "metadata": {
        "id": "kx4T8K9uVQ_K"
      },
      "source": [
        "We drop the columns 'release_date' and 'month' as more than 50% of dates only contain the year."
      ]
    },
    {
      "cell_type": "code",
      "metadata": {
        "id": "4EfM6zEd-fM6"
      },
      "source": [
        "df.drop(columns=['release_date', 'month'], inplace=True)"
      ],
      "execution_count": 15,
      "outputs": []
    },
    {
      "cell_type": "markdown",
      "metadata": {
        "id": "Ivzv7Sp6Vbdc"
      },
      "source": [
        "Transform 'key' column to str in order to make the Hot Encoding"
      ]
    },
    {
      "cell_type": "code",
      "metadata": {
        "id": "PEmAvnRI-fM7"
      },
      "source": [
        "df['key'] = df['key'].apply(str)"
      ],
      "execution_count": 16,
      "outputs": []
    },
    {
      "cell_type": "markdown",
      "metadata": {
        "id": "6KrfXIlTVkFH"
      },
      "source": [
        "Split data to start training our models"
      ]
    },
    {
      "cell_type": "code",
      "metadata": {
        "id": "iiVotv5z-fM7"
      },
      "source": [
        "X = df.drop(columns='popularity').copy()\n",
        "y = df['popularity'].copy()"
      ],
      "execution_count": 17,
      "outputs": []
    },
    {
      "cell_type": "code",
      "metadata": {
        "id": "ULutB6bn-fM7"
      },
      "source": [
        "num_cols = X.select_dtypes(include=[\"int64\", \"float64\"]).columns\n",
        "cat_cols = X.select_dtypes(exclude=[\"int64\", \"float64\"]).columns"
      ],
      "execution_count": 18,
      "outputs": []
    },
    {
      "cell_type": "code",
      "metadata": {
        "id": "7XPDWBpl-fM7"
      },
      "source": [
        "X_train, X_test, y_train, y_test = train_test_split(X, y, test_size=0.1, random_state=1)"
      ],
      "execution_count": 19,
      "outputs": []
    },
    {
      "cell_type": "code",
      "metadata": {
        "id": "7E4ndr81-fM7"
      },
      "source": [
        "def fill_numeric_nulls(df):\n",
        "    imputer = SimpleImputer(strategy=\"median\")\n",
        "    X = imputer.fit_transform(df)\n",
        "    return X\n",
        "\n",
        "numeric_nulls_imputer = FunctionTransformer(fill_numeric_nulls)"
      ],
      "execution_count": 20,
      "outputs": []
    },
    {
      "cell_type": "code",
      "metadata": {
        "id": "NfAzQnWO-fM7"
      },
      "source": [
        "inter_pipeline = ColumnTransformer([\n",
        "    (\"onehot_enc\", OneHotEncoder(handle_unknown=\"ignore\"), cat_cols),\n",
        "    (\"num_nulls_imp\", numeric_nulls_imputer, num_cols) \n",
        "])"
      ],
      "execution_count": 21,
      "outputs": []
    },
    {
      "cell_type": "code",
      "metadata": {
        "id": "4_PMS3-a-fM7"
      },
      "source": [
        "feature_selector_dtree = SelectFromModel(DecisionTreeRegressor(), max_features=7)"
      ],
      "execution_count": 22,
      "outputs": []
    },
    {
      "cell_type": "markdown",
      "metadata": {
        "id": "vpdqwWO3VqWE"
      },
      "source": [
        "Pipeline with Linear Regression Model"
      ]
    },
    {
      "cell_type": "code",
      "metadata": {
        "colab": {
          "base_uri": "https://localhost:8080/",
          "height": 690
        },
        "id": "Xwu6wUp9aS58",
        "outputId": "a196d04a-31ba-4f4a-a942-fd1a6c7f1ace"
      },
      "source": [
        "K = np.arange(0.8, 0.999, 0.01)\n",
        "rmse = []\n",
        "for k in K:\n",
        "    pipeline_reg = Pipeline([\n",
        "        (\"intermediate_pipe\", inter_pipeline),\n",
        "        (\"standard_scal\", StandardScaler()),\n",
        "        #(\"feature_select\", SelectFromModel(DecisionTreeRegressor(), max_features=k)),\n",
        "        (\"pca\", PCA(n_components=k)),\n",
        "        (\"reg\", LinearRegression())\n",
        "    ])\n",
        "    pipeline_reg.fit(X_train, y_train)\n",
        "    y_pred = pipeline_reg.predict(X_test)\n",
        "    rmse.append(r2_score(y_test, y_pred))\n",
        "    print(str(k), \" --> \", str(r2_score(y_test, y_pred)))\n",
        "    \n",
        "# plot\n",
        "plt.figure(figsize=(16,5))\n",
        "plt.plot(K, rmse, 'bx-')\n",
        "plt.xlabel('features')\n",
        "plt.ylabel('r2 Score')\n",
        "plt.title('Features optimization')\n",
        "plt.savefig('features_opti.png', transparent=True)"
      ],
      "execution_count": 23,
      "outputs": [
        {
          "output_type": "stream",
          "text": [
            "0.8  -->  0.27364671377710403\n",
            "0.81  -->  0.27364671377710403\n",
            "0.8200000000000001  -->  0.27364671377710403\n",
            "0.8300000000000001  -->  0.30324929410485\n",
            "0.8400000000000001  -->  0.30324929410485\n",
            "0.8500000000000001  -->  0.30324929410485\n",
            "0.8600000000000001  -->  0.30324929410485\n",
            "0.8700000000000001  -->  0.30962484596715245\n",
            "0.8800000000000001  -->  0.30962484596715245\n",
            "0.8900000000000001  -->  0.30962484596715245\n",
            "0.9000000000000001  -->  0.3133293877013281\n",
            "0.9100000000000001  -->  0.3133293877013281\n",
            "0.9200000000000002  -->  0.3133293877013281\n",
            "0.9300000000000002  -->  0.31337894105622666\n",
            "0.9400000000000002  -->  0.31337894105622666\n",
            "0.9500000000000002  -->  0.3456705574116876\n",
            "0.9600000000000002  -->  0.3456705574116876\n",
            "0.9700000000000002  -->  0.3456705574116876\n",
            "0.9800000000000002  -->  0.3611972833108643\n",
            "0.9900000000000002  -->  0.36477232822113936\n"
          ],
          "name": "stdout"
        },
        {
          "output_type": "display_data",
          "data": {
            "image/png": "[encoded data removed]",
            "text/plain": [
              "<Figure size 1152x360 with 1 Axes>"
            ]
          },
          "metadata": {
            "tags": [],
            "needs_background": "light"
          }
        }
      ]
    },
    {
      "cell_type": "code",
      "metadata": {
        "id": "sLE7bcVs-fM8"
      },
      "source": [
        "pipeline_reg = Pipeline([\n",
        "    (\"intermediate_pipe\", inter_pipeline),\n",
        "    (\"standard_scal\", StandardScaler()),\n",
        "    #(\"feature_select\", feature_selector_dtree),\n",
        "    (\"pca\", PCA(n_components=0.95)),\n",
        "    (\"reg\", LinearRegression())\n",
        "])"
      ],
      "execution_count": 24,
      "outputs": []
    },
    {
      "cell_type": "code",
      "metadata": {
        "colab": {
          "base_uri": "https://localhost:8080/"
        },
        "id": "2jvN_azyAOL5",
        "outputId": "7d575139-6d8a-4d09-96d3-a0b78c6f018d"
      },
      "source": [
        "pipeline_reg.fit(X_train, y_train)\n",
        "y_pred_reg = pipeline_reg.predict(X_test)\n",
        "print('reg', r2_score(y_test, y_pred_reg))"
      ],
      "execution_count": 25,
      "outputs": [
        {
          "output_type": "stream",
          "text": [
            "reg 0.3456705574116876\n"
          ],
          "name": "stdout"
        }
      ]
    },
    {
      "cell_type": "markdown",
      "metadata": {
        "id": "C2AtCP0GV5CV"
      },
      "source": [
        "Pipeline with Lasso Regression Model"
      ]
    },
    {
      "cell_type": "code",
      "metadata": {
        "id": "sYzLydZv-fM8"
      },
      "source": [
        "pipeline_lasso = Pipeline([\n",
        "    (\"intermediate_pipe\", inter_pipeline),\n",
        "    (\"standard_scal\", StandardScaler()),\n",
        "    #(\"feature_select\", feature_selector_dtree),\n",
        "    (\"pca\", PCA(n_components=0.95)),\n",
        "    (\"lasso\", Lasso(alpha=0.05))\n",
        "])"
      ],
      "execution_count": 26,
      "outputs": []
    },
    {
      "cell_type": "code",
      "metadata": {
        "colab": {
          "base_uri": "https://localhost:8080/"
        },
        "id": "HAUbGV6-B43b",
        "outputId": "08e19d67-2c4d-4121-94dc-1b916702f462"
      },
      "source": [
        "pipeline_lasso.fit(X_train, y_train)\n",
        "y_pred_lasso = pipeline_lasso.predict(X_test)\n",
        "print('lasso', r2_score(y_test, y_pred_lasso))"
      ],
      "execution_count": 27,
      "outputs": [
        {
          "output_type": "stream",
          "text": [
            "lasso 0.34547837511050405\n"
          ],
          "name": "stdout"
        }
      ]
    },
    {
      "cell_type": "markdown",
      "metadata": {
        "id": "6Wd3oxYaWCOJ"
      },
      "source": [
        "Pipeline with Epsilon-Support Vector Regression"
      ]
    },
    {
      "cell_type": "code",
      "metadata": {
        "colab": {
          "base_uri": "https://localhost:8080/",
          "height": 656
        },
        "id": "eTXVqpFlcfK7",
        "outputId": "9ade90b8-82aa-4d8e-97f9-cd614d4e8966"
      },
      "source": [
        "K = np.arange(0.05, 0.95, 0.05)\n",
        "rmse = []\n",
        "for k in K:\n",
        "    pipeline_svr = Pipeline([\n",
        "        (\"intermediate_pipe\", inter_pipeline),\n",
        "        (\"standard_scal\", StandardScaler()),\n",
        "        #(\"feature_select\", feature_selector_dtree),\n",
        "        (\"pca\", PCA(n_components=0.95)),\n",
        "        (\"svr\", LinearSVR(C=1, epsilon=k))\n",
        "    ])\n",
        "    pipeline_svr.fit(X_train, y_train)\n",
        "    y_pred = pipeline_svr.predict(X_test)\n",
        "    rmse.append(r2_score(y_test, y_pred))\n",
        "    print(str(k), \" --> \", str(r2_score(y_test, y_pred)))\n",
        "    \n",
        "# plot\n",
        "# plot\n",
        "plt.figure(figsize=(16,5))\n",
        "plt.plot(K, rmse, 'bx-')\n",
        "plt.xlabel('Epsilon')\n",
        "plt.ylabel('r2 Score')\n",
        "plt.title('SVR Model: Epsilon optimization')\n",
        "plt.savefig('svr_model.png', transparent=True)"
      ],
      "execution_count": 29,
      "outputs": [
        {
          "output_type": "stream",
          "text": [
            "0.05  -->  0.2725380568593678\n",
            "0.1  -->  0.27169264952755867\n",
            "0.15000000000000002  -->  0.27210170265570355\n",
            "0.2  -->  0.2700987563563818\n",
            "0.25  -->  0.27155911516577835\n",
            "0.3  -->  0.27059133394580703\n",
            "0.35000000000000003  -->  0.27144944178411445\n",
            "0.4  -->  0.2719011740392464\n",
            "0.45  -->  0.2719710822021547\n",
            "0.5  -->  0.2714382066611827\n",
            "0.55  -->  0.271315738331421\n",
            "0.6000000000000001  -->  0.2707647607765088\n",
            "0.6500000000000001  -->  0.27080303135331274\n",
            "0.7000000000000001  -->  0.27148374787107643\n",
            "0.7500000000000001  -->  0.27131618753426834\n",
            "0.8  -->  0.27150930861974343\n",
            "0.8500000000000001  -->  0.27152634387533736\n",
            "0.9000000000000001  -->  0.27171340373557273\n"
          ],
          "name": "stdout"
        },
        {
          "output_type": "display_data",
          "data": {
            "image/png": "[encoded data removed]",
            "text/plain": [
              "<Figure size 1152x360 with 1 Axes>"
            ]
          },
          "metadata": {
            "tags": [],
            "needs_background": "light"
          }
        }
      ]
    },
    {
      "cell_type": "code",
      "metadata": {
        "id": "Y7n_TT5C-fM8"
      },
      "source": [
        "pipeline_svr = Pipeline([\n",
        "    (\"intermediate_pipe\", inter_pipeline),\n",
        "    (\"standard_scal\", StandardScaler()),\n",
        "    #(\"feature_select\", feature_selector_dtree),\n",
        "    (\"pca\", PCA(n_components=0.95)),\n",
        "    (\"svr\", LinearSVR(C=1.0, epsilon=0.4))\n",
        "])"
      ],
      "execution_count": 30,
      "outputs": []
    },
    {
      "cell_type": "code",
      "metadata": {
        "colab": {
          "base_uri": "https://localhost:8080/"
        },
        "id": "it3Njx8nB_gc",
        "outputId": "39b5396c-55ee-4a92-93cf-38b1095c76c4"
      },
      "source": [
        "pipeline_svr.fit(X_train, y_train)\n",
        "y_pred_svr = pipeline_svr.predict(X_test)\n",
        "print('svr', r2_score(y_test, y_pred_svr))"
      ],
      "execution_count": 31,
      "outputs": [
        {
          "output_type": "stream",
          "text": [
            "svr 0.2713076184089668\n"
          ],
          "name": "stdout"
        }
      ]
    },
    {
      "cell_type": "markdown",
      "metadata": {
        "id": "JbrWxTBPYtgT"
      },
      "source": [
        "Pipeline with k-nearest Neighbors Regression"
      ]
    },
    {
      "cell_type": "code",
      "metadata": {
        "colab": {
          "base_uri": "https://localhost:8080/",
          "height": 503
        },
        "id": "DT8C7ioIef2W",
        "outputId": "3116ab39-fab3-4a7c-b25b-9c84f497de9f"
      },
      "source": [
        "K = np.arange(10, 100, 10)\n",
        "rmse = []\n",
        "for k in K:\n",
        "    pipeline_neigh = Pipeline([\n",
        "        (\"intermediate_pipe\", inter_pipeline),\n",
        "        (\"standard_scal\", StandardScaler()),\n",
        "        #(\"feature_select\", feature_selector_dtree),\n",
        "        (\"pca\", PCA(n_components=0.95)),\n",
        "        (\"neigh\", KNeighborsRegressor(n_neighbors=k, weights = 'distance', p=1))\n",
        "    ])\n",
        "    pipeline_neigh.fit(X_train, y_train)\n",
        "    y_pred = pipeline_neigh.predict(X_test)\n",
        "    rmse.append(r2_score(y_test, y_pred))\n",
        "    print(str(k), \" --> \", str(r2_score(y_test, y_pred)))\n",
        "    \n",
        "# plot\n",
        "plt.figure(figsize=(16,5))\n",
        "plt.plot(K, rmse, 'bx-')\n",
        "plt.xlabel('features')\n",
        "plt.ylabel('r2 Score')\n",
        "plt.title('Features optimization')\n",
        "plt.savefig('features_opti.png', transparent=True)"
      ],
      "execution_count": 39,
      "outputs": [
        {
          "output_type": "stream",
          "text": [
            "10  -->  0.5263823985910525\n",
            "20  -->  0.5391501503830924\n",
            "30  -->  0.5392977494192974\n",
            "40  -->  0.5382726126208179\n",
            "50  -->  0.5356108229575235\n",
            "60  -->  0.532869112498695\n",
            "70  -->  0.5310401352215539\n",
            "80  -->  0.529302543789395\n",
            "90  -->  0.5270660592038231\n"
          ],
          "name": "stdout"
        },
        {
          "output_type": "display_data",
          "data": {
            "image/png": "[encoded data removed]",
            "text/plain": [
              "<Figure size 1152x360 with 1 Axes>"
            ]
          },
          "metadata": {
            "tags": [],
            "needs_background": "light"
          }
        }
      ]
    },
    {
      "cell_type": "code",
      "metadata": {
        "id": "bsGoiXlD-fM8"
      },
      "source": [
        "pipeline_neigh = Pipeline([\n",
        "    (\"intermediate_pipe\", inter_pipeline),\n",
        "    (\"standard_scal\", StandardScaler()),\n",
        "    #(\"feature_select\", feature_selector_dtree),\n",
        "    (\"pca\", PCA(n_components=0.95)),\n",
        "    (\"neigh\", KNeighborsRegressor(n_neighbors=35, weights = 'distance', p=1))\n",
        "])"
      ],
      "execution_count": 40,
      "outputs": []
    },
    {
      "cell_type": "code",
      "metadata": {
        "colab": {
          "base_uri": "https://localhost:8080/"
        },
        "id": "CEQM6z4WCI_8",
        "outputId": "0e76b8cd-b117-41cd-89ad-5a6f0edfb564"
      },
      "source": [
        "pipeline_neigh.fit(X_train, y_train)\n",
        "y_pred_neigh = pipeline_neigh.predict(X_test)\n",
        "print('neigh', r2_score(y_test, y_pred_neigh))"
      ],
      "execution_count": 41,
      "outputs": [
        {
          "output_type": "stream",
          "text": [
            "neigh 0.5387918182482716\n"
          ],
          "name": "stdout"
        }
      ]
    },
    {
      "cell_type": "markdown",
      "metadata": {
        "id": "eJXcBUMVgjnN"
      },
      "source": [
        "Pipeline with Decision Tree Regression Model"
      ]
    },
    {
      "cell_type": "code",
      "metadata": {
        "id": "F64ABSAS-fM8"
      },
      "source": [
        "pipeline_dec_tree = Pipeline([\n",
        "    (\"intermediate_pipe\", inter_pipeline),\n",
        "    (\"standard_scal\", StandardScaler()),\n",
        "    #(\"feature_select\", feature_selector_dtree),\n",
        "    (\"pca\", PCA(n_components=0.95)),\n",
        "    (\"dec_tree\", DecisionTreeRegressor(random_state=0))\n",
        "])"
      ],
      "execution_count": 42,
      "outputs": []
    },
    {
      "cell_type": "code",
      "metadata": {
        "colab": {
          "base_uri": "https://localhost:8080/"
        },
        "id": "2aMXUxMpCQZe",
        "outputId": "59f12477-793c-4d22-c744-2be5ab808bf0"
      },
      "source": [
        "pipeline_dec_tree.fit(X_train, y_train)\n",
        "y_pred_dec_tree = pipeline_dec_tree.predict(X_test)\n",
        "print('dec_tree', r2_score(y_test, y_pred_dec_tree))"
      ],
      "execution_count": 43,
      "outputs": [
        {
          "output_type": "stream",
          "text": [
            "dec_tree 0.15451257875786206\n"
          ],
          "name": "stdout"
        }
      ]
    },
    {
      "cell_type": "markdown",
      "metadata": {
        "id": "LkkUMf7LgqKm"
      },
      "source": [
        "Pipeline with Random Forest Regression Model"
      ]
    },
    {
      "cell_type": "code",
      "metadata": {
        "id": "5Un_Hk11-fM8"
      },
      "source": [
        "pipeline_rfr = Pipeline([\n",
        "    (\"intermediate_pipe\", inter_pipeline),\n",
        "    (\"standard_scal\", StandardScaler()),\n",
        "    #(\"feature_select\", feature_selector_dtree),\n",
        "    #(\"pca\", PCA(n_components=0.95)),\n",
        "    (\"rfr\", RandomForestRegressor(n_estimators=170, random_state=0))\n",
        "])"
      ],
      "execution_count": 44,
      "outputs": []
    },
    {
      "cell_type": "code",
      "metadata": {
        "colab": {
          "base_uri": "https://localhost:8080/"
        },
        "id": "RR5BU94CCWE_",
        "outputId": "dd08c4c8-63a2-4029-c74e-086d178018af"
      },
      "source": [
        "pipeline_rfr.fit(X_train, y_train)\n",
        "y_pred_rfr = pipeline_rfr.predict(X_test)\n",
        "print('rfr', r2_score(y_test, y_pred_rfr))"
      ],
      "execution_count": 45,
      "outputs": [
        {
          "output_type": "stream",
          "text": [
            "rfr 0.6933349271670435\n"
          ],
          "name": "stdout"
        }
      ]
    },
    {
      "cell_type": "markdown",
      "metadata": {
        "id": "WM4L8cPPguL-"
      },
      "source": [
        "Pipeline with ADA Boost Regression Model"
      ]
    },
    {
      "cell_type": "code",
      "metadata": {
        "id": "vnPrBfrS-fM8"
      },
      "source": [
        "pipeline_ada = Pipeline([\n",
        "    (\"intermediate_pipe\", inter_pipeline),\n",
        "    (\"standard_scal\", StandardScaler()),\n",
        "    #(\"feature_select\", feature_selector_dtree),\n",
        "    #(\"pca\", PCA(n_components=0.95)),\n",
        "    (\"ada\", AdaBoostRegressor(n_estimators=100, random_state=0))\n",
        "])"
      ],
      "execution_count": 46,
      "outputs": []
    },
    {
      "cell_type": "code",
      "metadata": {
        "colab": {
          "base_uri": "https://localhost:8080/"
        },
        "id": "y1DoDF9OFMUz",
        "outputId": "f1b4ee76-529a-4e77-da51-87c5dc32b40e"
      },
      "source": [
        "pipeline_ada.fit(X_train, y_train)\n",
        "y_pred_ada = pipeline_ada.predict(X_test)\n",
        "print('ada', r2_score(y_test, y_pred_ada))"
      ],
      "execution_count": 47,
      "outputs": [
        {
          "output_type": "stream",
          "text": [
            "ada 0.46920768429081194\n"
          ],
          "name": "stdout"
        }
      ]
    },
    {
      "cell_type": "markdown",
      "metadata": {
        "id": "mjIUbtNDgzNF"
      },
      "source": [
        "Pipeline with Gradient Boost Regression Model"
      ]
    },
    {
      "cell_type": "code",
      "metadata": {
        "id": "GuQE5Sgc-fM9"
      },
      "source": [
        "pipeline_grad = Pipeline([\n",
        "    (\"intermediate_pipe\", inter_pipeline),\n",
        "    (\"standard_scal\", StandardScaler()),\n",
        "    #(\"feature_select\", feature_selector_dtree),\n",
        "    #(\"pca\", PCA(n_components=0.95)),\n",
        "    (\"grad\", GradientBoostingRegressor(n_estimators=230, random_state=0))\n",
        "])"
      ],
      "execution_count": 48,
      "outputs": []
    },
    {
      "cell_type": "code",
      "metadata": {
        "colab": {
          "base_uri": "https://localhost:8080/"
        },
        "id": "c_SqjxE_FRM0",
        "outputId": "a8bc7a03-d4f3-4a21-988b-26ce3894d148"
      },
      "source": [
        "pipeline_grad.fit(X_train, y_train)\n",
        "y_pred_grad = pipeline_grad.predict(X_test)\n",
        "print('grad', r2_score(y_test, y_pred_grad))"
      ],
      "execution_count": 49,
      "outputs": [
        {
          "output_type": "stream",
          "text": [
            "grad 0.6327939180371589\n"
          ],
          "name": "stdout"
        }
      ]
    },
    {
      "cell_type": "markdown",
      "metadata": {
        "id": "wLe0fbyVg4S-"
      },
      "source": [
        "Stacking Regressor using the best 3 models: K-nearest neighboors, Random Forest and Gradient Boosting"
      ]
    },
    {
      "cell_type": "code",
      "metadata": {
        "id": "SA1E3K_5-fM9"
      },
      "source": [
        "estimators = [('neigh', pipeline_neigh),\n",
        "              ('rfr', pipeline_rfr),\n",
        "              ('grad', pipeline_grad)\n",
        "             ]"
      ],
      "execution_count": 51,
      "outputs": []
    },
    {
      "cell_type": "code",
      "metadata": {
        "id": "msTijvpW-fM9"
      },
      "source": [
        "stacking_regressor = StackingRegressor(estimators=estimators)"
      ],
      "execution_count": 52,
      "outputs": []
    },
    {
      "cell_type": "code",
      "metadata": {
        "colab": {
          "base_uri": "https://localhost:8080/"
        },
        "id": "vgSLo8HY-fM9",
        "outputId": "be002cf1-047b-4ed1-b5fd-e4dcc4dcca66"
      },
      "source": [
        "pipeline_neigh.fit(X_train, y_train)\n",
        "pipeline_rfr.fit(X_train, y_train)\n",
        "pipeline_grad.fit(X_train, y_train)"
      ],
      "execution_count": 31,
      "outputs": [
        {
          "output_type": "execute_result",
          "data": {
            "text/plain": [
              "Pipeline(memory=None,\n",
              "         steps=[('intermediate_pipe',\n",
              "                 ColumnTransformer(n_jobs=None, remainder='drop',\n",
              "                                   sparse_threshold=0.3,\n",
              "                                   transformer_weights=None,\n",
              "                                   transformers=[('onehot_enc',\n",
              "                                                  OneHotEncoder(categories='auto',\n",
              "                                                                drop=None,\n",
              "                                                                dtype=<class 'numpy.float64'>,\n",
              "                                                                handle_unknown='ignore',\n",
              "                                                                sparse=True),\n",
              "                                                  Index(['key'], dtype='object')),\n",
              "                                                 ('num_nulls_imp',\n",
              "                                                  FunctionTransformer(acce...\n",
              "                                           learning_rate=0.1, loss='ls',\n",
              "                                           max_depth=3, max_features=None,\n",
              "                                           max_leaf_nodes=None,\n",
              "                                           min_impurity_decrease=0.0,\n",
              "                                           min_impurity_split=None,\n",
              "                                           min_samples_leaf=1,\n",
              "                                           min_samples_split=2,\n",
              "                                           min_weight_fraction_leaf=0.0,\n",
              "                                           n_estimators=230,\n",
              "                                           n_iter_no_change=None,\n",
              "                                           presort='deprecated', random_state=0,\n",
              "                                           subsample=1.0, tol=0.0001,\n",
              "                                           validation_fraction=0.1, verbose=0,\n",
              "                                           warm_start=False))],\n",
              "         verbose=False)"
            ]
          },
          "metadata": {
            "tags": []
          },
          "execution_count": 31
        }
      ]
    },
    {
      "cell_type": "code",
      "metadata": {
        "id": "m0Bj6GC4-fM9"
      },
      "source": [
        "y_pred_neigh    = pipeline_neigh.predict(X_test)\n",
        "y_pred_rfr      = pipeline_rfr.predict(X_test)\n",
        "y_pred_grad     = pipeline_grad.predict(X_test)"
      ],
      "execution_count": 32,
      "outputs": []
    },
    {
      "cell_type": "code",
      "metadata": {
        "colab": {
          "base_uri": "https://localhost:8080/"
        },
        "id": "0xMZFByQ-fM9",
        "outputId": "0f37cc34-dbbe-478a-df92-54377bd15760"
      },
      "source": [
        "print('neigh   ', r2_score(y_test, y_pred_neigh))\n",
        "print('rfr     ', r2_score(y_test, y_pred_rfr))\n",
        "print('grad    ', r2_score(y_test, y_pred_grad))"
      ],
      "execution_count": 50,
      "outputs": [
        {
          "output_type": "stream",
          "text": [
            "neigh    0.5387918182482716\n",
            "rfr      0.6933349271670435\n",
            "grad     0.6327939180371589\n"
          ],
          "name": "stdout"
        }
      ]
    },
    {
      "cell_type": "code",
      "metadata": {
        "colab": {
          "base_uri": "https://localhost:8080/"
        },
        "id": "A9K2FZCT-fM-",
        "outputId": "e1ea616a-1f24-4dba-ae70-c2ad62ce1a99"
      },
      "source": [
        "stacking_regressor.fit(X_train, y_train)"
      ],
      "execution_count": 53,
      "outputs": [
        {
          "output_type": "execute_result",
          "data": {
            "text/plain": [
              "StackingRegressor(cv=None,\n",
              "                  estimators=[('neigh',\n",
              "                               Pipeline(memory=None,\n",
              "                                        steps=[('intermediate_pipe',\n",
              "                                                ColumnTransformer(n_jobs=None,\n",
              "                                                                  remainder='drop',\n",
              "                                                                  sparse_threshold=0.3,\n",
              "                                                                  transformer_weights=None,\n",
              "                                                                  transformers=[('onehot_enc',\n",
              "                                                                                 OneHotEncoder(categories='auto',\n",
              "                                                                                               drop=None,\n",
              "                                                                                               dtype=<class 'numpy.float64'>,\n",
              "                                                                                               handle_unknown='ignore',\n",
              "                                                                                               sparse=True),\n",
              "                                                                                 Index(['key'], dtype='obje...\n",
              "                                                                          min_impurity_decrease=0.0,\n",
              "                                                                          min_impurity_split=None,\n",
              "                                                                          min_samples_leaf=1,\n",
              "                                                                          min_samples_split=2,\n",
              "                                                                          min_weight_fraction_leaf=0.0,\n",
              "                                                                          n_estimators=230,\n",
              "                                                                          n_iter_no_change=None,\n",
              "                                                                          presort='deprecated',\n",
              "                                                                          random_state=0,\n",
              "                                                                          subsample=1.0,\n",
              "                                                                          tol=0.0001,\n",
              "                                                                          validation_fraction=0.1,\n",
              "                                                                          verbose=0,\n",
              "                                                                          warm_start=False))],\n",
              "                                        verbose=False))],\n",
              "                  final_estimator=None, n_jobs=None, passthrough=False,\n",
              "                  verbose=0)"
            ]
          },
          "metadata": {
            "tags": []
          },
          "execution_count": 53
        }
      ]
    },
    {
      "cell_type": "code",
      "metadata": {
        "id": "fI7fqMRw-fM-"
      },
      "source": [
        "y_pred_stack    = stacking_regressor.predict(X_test)"
      ],
      "execution_count": 54,
      "outputs": []
    },
    {
      "cell_type": "code",
      "metadata": {
        "colab": {
          "base_uri": "https://localhost:8080/"
        },
        "id": "WZ3xgV5D-fM-",
        "outputId": "83b6a443-d0b8-4f7d-8fdb-4d340e30b2e8"
      },
      "source": [
        "print('r2_score:', r2_score(y_test, y_pred_stack))\n",
        "print('mae     :', mean_absolute_error(y_test, y_pred_stack))\n",
        "print('mse     :', mean_squared_error(y_test, y_pred_stack))\n",
        "print('rmse    :', mean_squared_error(y_test, y_pred_stack, squared=False))\n",
        "print('mdae    :', median_absolute_error(y_test, y_pred_stack))"
      ],
      "execution_count": 61,
      "outputs": [
        {
          "output_type": "stream",
          "text": [
            "r2_score: 0.6935535485689012\n",
            "mae     : 8.133411289036747\n",
            "mse     : 148.38505382710318\n",
            "rmse    : 12.181340395338404\n",
            "mdae    : 5.45290401000792\n"
          ],
          "name": "stdout"
        }
      ]
    },
    {
      "cell_type": "markdown",
      "metadata": {
        "id": "iGo5yEefiNv-"
      },
      "source": [
        "Save models"
      ]
    },
    {
      "cell_type": "code",
      "metadata": {
        "id": "cpg7GdjZ-fM-"
      },
      "source": [
        "pickle.dump(pipeline_reg, open('pipeline_reg.sav', 'wb'))\n",
        "pickle.dump(pipeline_lasso, open('pipeline_lasso.sav', 'wb'))\n",
        "pickle.dump(pipeline_svr, open('pipeline_svr.sav', 'wb'))\n",
        "pickle.dump(pipeline_neigh, open('pipeline_neigh.sav', 'wb'))\n",
        "pickle.dump(pipeline_dec_tree, open('pipeline_dec_tree.sav', 'wb'))\n",
        "pickle.dump(pipeline_rfr, open('pipeline_rfr.sav', 'wb'))\n",
        "pickle.dump(pipeline_ada, open('pipeline_ada.sav', 'wb'))\n",
        "pickle.dump(pipeline_grad, open('pipeline_grad.sav', 'wb'))\n",
        "pickle.dump(stacking_regressor, open('stacking_regressor.sav', 'wb'))"
      ],
      "execution_count": 57,
      "outputs": []
    },
    {
      "cell_type": "code",
      "metadata": {
        "id": "7dad7Bh640sd"
      },
      "source": [
        ""
      ],
      "execution_count": null,
      "outputs": []
    },
    {
      "cell_type": "markdown",
      "metadata": {
        "id": "t41sv9l79Mx9"
      },
      "source": [
        "Validate model"
      ]
    },
    {
      "cell_type": "code",
      "metadata": {
        "id": "jKF-oHh79N3A"
      },
      "source": [
        "df_validation = pd.read_csv('songs_lyrics_complete.csv')"
      ],
      "execution_count": 76,
      "outputs": []
    },
    {
      "cell_type": "code",
      "metadata": {
        "id": "VG8wzN5K9S7v"
      },
      "source": [
        "df_validation.drop(columns=['name', 'artist_1', 'artist_2', 'uri', 'lyrics'], inplace=True)"
      ],
      "execution_count": 77,
      "outputs": []
    },
    {
      "cell_type": "code",
      "metadata": {
        "id": "kKH1xUM79VsV"
      },
      "source": [
        "df_validation['key'] = df_validation['key'].apply(str)"
      ],
      "execution_count": 78,
      "outputs": []
    },
    {
      "cell_type": "code",
      "metadata": {
        "colab": {
          "base_uri": "https://localhost:8080/"
        },
        "id": "tkJrlJ8x-GTp",
        "outputId": "09173216-3946-423d-efb2-3eeabc6ffc23"
      },
      "source": [
        "X.info()"
      ],
      "execution_count": 79,
      "outputs": [
        {
          "output_type": "stream",
          "text": [
            "<class 'pandas.core.frame.DataFrame'>\n",
            "RangeIndex: 174389 entries, 0 to 174388\n",
            "Data columns (total 14 columns):\n",
            " #   Column            Non-Null Count   Dtype  \n",
            "---  ------            --------------   -----  \n",
            " 0   acousticness      174389 non-null  float64\n",
            " 1   danceability      174389 non-null  float64\n",
            " 2   duration_ms       174389 non-null  int64  \n",
            " 3   energy            174389 non-null  float64\n",
            " 4   explicit          174389 non-null  int64  \n",
            " 5   instrumentalness  174389 non-null  float64\n",
            " 6   key               174389 non-null  object \n",
            " 7   liveness          174389 non-null  float64\n",
            " 8   loudness          174389 non-null  float64\n",
            " 9   mode              174389 non-null  int64  \n",
            " 10  speechiness       174389 non-null  float64\n",
            " 11  tempo             174389 non-null  float64\n",
            " 12  valence           174389 non-null  float64\n",
            " 13  year              174389 non-null  int64  \n",
            "dtypes: float64(9), int64(4), object(1)\n",
            "memory usage: 18.6+ MB\n"
          ],
          "name": "stdout"
        }
      ]
    },
    {
      "cell_type": "code",
      "metadata": {
        "id": "yQgrOK6P9bWW"
      },
      "source": [
        "X_val = df_validation.drop(columns='popularity').copy()\n",
        "y_val = df_validation['popularity'].copy()"
      ],
      "execution_count": 80,
      "outputs": []
    },
    {
      "cell_type": "code",
      "metadata": {
        "colab": {
          "base_uri": "https://localhost:8080/"
        },
        "id": "5b2G5Bpr-iw5",
        "outputId": "f07b5f4f-d8b6-4981-b981-89006cc9bd7b"
      },
      "source": [
        "X_val.info()"
      ],
      "execution_count": 81,
      "outputs": [
        {
          "output_type": "stream",
          "text": [
            "<class 'pandas.core.frame.DataFrame'>\n",
            "RangeIndex: 4272 entries, 0 to 4271\n",
            "Data columns (total 14 columns):\n",
            " #   Column            Non-Null Count  Dtype  \n",
            "---  ------            --------------  -----  \n",
            " 0   year              4272 non-null   int64  \n",
            " 1   explicit          4272 non-null   bool   \n",
            " 2   duration_ms       4272 non-null   int64  \n",
            " 3   danceability      4272 non-null   float64\n",
            " 4   energy            4272 non-null   float64\n",
            " 5   key               4272 non-null   object \n",
            " 6   loudness          4272 non-null   float64\n",
            " 7   mode              4272 non-null   int64  \n",
            " 8   speechiness       4272 non-null   float64\n",
            " 9   acousticness      4272 non-null   float64\n",
            " 10  instrumentalness  4272 non-null   float64\n",
            " 11  liveness          4272 non-null   float64\n",
            " 12  valence           4272 non-null   float64\n",
            " 13  tempo             4272 non-null   float64\n",
            "dtypes: bool(1), float64(9), int64(3), object(1)\n",
            "memory usage: 438.2+ KB\n"
          ],
          "name": "stdout"
        }
      ]
    },
    {
      "cell_type": "code",
      "metadata": {
        "id": "x1aFe16w-NRc"
      },
      "source": [
        "X_val = X_val[list(X.columns.values)]"
      ],
      "execution_count": 84,
      "outputs": []
    },
    {
      "cell_type": "code",
      "metadata": {
        "id": "Mbodl-kI9isX"
      },
      "source": [
        "y_pred_val = stacking_regressor.predict(X_val)"
      ],
      "execution_count": 85,
      "outputs": []
    },
    {
      "cell_type": "code",
      "metadata": {
        "colab": {
          "base_uri": "https://localhost:8080/"
        },
        "id": "2JYbrgsE9nNo",
        "outputId": "3a18cdae-0bd4-492d-df2d-c525aea24b08"
      },
      "source": [
        "print('r2_score:', r2_score(y_val, y_pred_val))\n",
        "print('mae     :', mean_absolute_error(y_val, y_pred_val))\n",
        "print('mse     :', mean_squared_error(y_val, y_pred_val))\n",
        "print('rmse    :', mean_squared_error(y_val, y_pred_val, squared=False))\n",
        "print('mdae    :', median_absolute_error(y_val, y_pred_val))"
      ],
      "execution_count": 86,
      "outputs": [
        {
          "output_type": "stream",
          "text": [
            "r2_score: 0.1240888846487439\n",
            "mae     : 16.03363215649902\n",
            "mse     : 542.6863547025782\n",
            "rmse    : 23.295629519345002\n",
            "mdae    : 9.312849728251543\n"
          ],
          "name": "stdout"
        }
      ]
    },
    {
      "cell_type": "code",
      "metadata": {
        "id": "fpUUzOyj90Kh"
      },
      "source": [
        ""
      ],
      "execution_count": null,
      "outputs": []
    }
  ]
}