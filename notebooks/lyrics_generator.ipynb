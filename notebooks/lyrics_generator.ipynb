{
 "cells": [
  {
   "cell_type": "markdown",
   "metadata": {
    "id": "ialPEYsjYVjp"
   },
   "source": [
    "# Lyrics Generator - LSTM Layer - March 2021"
   ]
  },
  {
   "cell_type": "markdown",
   "metadata": {
    "id": "CrTpBrNnYdTU"
   },
   "source": [
    "Setup"
   ]
  },
  {
   "cell_type": "code",
   "execution_count": 1,
   "metadata": {
    "executionInfo": {
     "elapsed": 2666,
     "status": "ok",
     "timestamp": 1615382036321,
     "user": {
      "displayName": "Pau Serra",
      "photoUrl": "https://lh3.googleusercontent.com/a-/AOh14GgBw57N5cUSy043vKXlPeVV7TR7gVKDtSJHmLP2EA=s64",
      "userId": "10319710410924669414"
     },
     "user_tz": -60
    },
    "id": "oY3UycPZYGg7"
   },
   "outputs": [],
   "source": [
    "from tensorflow import keras\n",
    "from tensorflow.keras import layers\n",
    "from keras.callbacks import ModelCheckpoint\n",
    "\n",
    "import numpy as np\n",
    "import random\n",
    "import io"
   ]
  },
  {
   "cell_type": "markdown",
   "metadata": {
    "id": "TDAmIW6zYuDQ"
   },
   "source": [
    "Preparing the data"
   ]
  },
  {
   "cell_type": "code",
   "execution_count": 2,
   "metadata": {
    "colab": {
     "base_uri": "https://localhost:8080/"
    },
    "executionInfo": {
     "elapsed": 11601,
     "status": "ok",
     "timestamp": 1615382050546,
     "user": {
      "displayName": "Pau Serra",
      "photoUrl": "https://lh3.googleusercontent.com/a-/AOh14GgBw57N5cUSy043vKXlPeVV7TR7gVKDtSJHmLP2EA=s64",
      "userId": "10319710410924669414"
     },
     "user_tz": -60
    },
    "id": "3KgUdzRtYuZo",
    "outputId": "3ca796dc-86d9-4a35-f283-e67b7a8c41f0"
   },
   "outputs": [
    {
     "name": "stdout",
     "output_type": "stream",
     "text": [
      "Corpus length: 951850\n",
      "Total chars: 80\n",
      "Number of sequences: 951820\n"
     ]
    }
   ],
   "source": [
    "f = open(\"sheeran_john_lyrics.txt\", \"r\")\n",
    "text = f.read().lower()\n",
    "\n",
    "text = text.replace(\"\\n\", \" \")  # We remove newlines chars for nicer display\n",
    "print(\"Corpus length:\", len(text))\n",
    "\n",
    "chars = sorted(list(set(text)))\n",
    "print(\"Total chars:\", len(chars))\n",
    "char_indices = dict((c, i) for i, c in enumerate(chars))\n",
    "indices_char = dict((i, c) for i, c in enumerate(chars))\n",
    "\n",
    "# cut the text in semi-redundant sequences of maxlen characters\n",
    "maxlen = 30\n",
    "step = 1\n",
    "sentences = []\n",
    "next_chars = []\n",
    "for i in range(0, len(text) - maxlen, step):\n",
    "    sentences.append(text[i : i + maxlen])\n",
    "    next_chars.append(text[i + maxlen])\n",
    "print(\"Number of sequences:\", len(sentences))\n",
    "\n",
    "x = np.zeros((len(sentences), maxlen, len(chars)), dtype=np.bool)\n",
    "y = np.zeros((len(sentences), len(chars)), dtype=np.bool)\n",
    "for i, sentence in enumerate(sentences):\n",
    "    for t, char in enumerate(sentence):\n",
    "        x[i, t, char_indices[char]] = 1\n",
    "    y[i, char_indices[next_chars[i]]] = 1"
   ]
  },
  {
   "cell_type": "markdown",
   "metadata": {
    "id": "Fg9BwPPRUxTF"
   },
   "source": [
    "Build the model: a LSTM layer + Dropout layer"
   ]
  },
  {
   "cell_type": "code",
   "execution_count": 3,
   "metadata": {
    "executionInfo": {
     "elapsed": 6407,
     "status": "ok",
     "timestamp": 1615382059526,
     "user": {
      "displayName": "Pau Serra",
      "photoUrl": "https://lh3.googleusercontent.com/a-/AOh14GgBw57N5cUSy043vKXlPeVV7TR7gVKDtSJHmLP2EA=s64",
      "userId": "10319710410924669414"
     },
     "user_tz": -60
    },
    "id": "ITuTm8Ihd-9O"
   },
   "outputs": [],
   "source": [
    "model = keras.Sequential(\n",
    "    [\n",
    "        keras.Input(shape=(maxlen, len(chars))),\n",
    "        layers.LSTM(128),\n",
    "        layers.Dropout(0.2),\n",
    "        layers.Dense(len(chars), activation=\"softmax\"),\n",
    "    ]\n",
    ")\n",
    "#optimizer = keras.optimizers.RMSprop(learning_rate=0.01)\n",
    "model.compile(loss=\"categorical_crossentropy\", optimizer='adam')"
   ]
  },
  {
   "cell_type": "markdown",
   "metadata": {
    "id": "4_XAgHTCU1NZ"
   },
   "source": [
    "Text sampling function"
   ]
  },
  {
   "cell_type": "code",
   "execution_count": 4,
   "metadata": {
    "executionInfo": {
     "elapsed": 907,
     "status": "ok",
     "timestamp": 1615382067920,
     "user": {
      "displayName": "Pau Serra",
      "photoUrl": "https://lh3.googleusercontent.com/a-/AOh14GgBw57N5cUSy043vKXlPeVV7TR7gVKDtSJHmLP2EA=s64",
      "userId": "10319710410924669414"
     },
     "user_tz": -60
    },
    "id": "ADwic-1XeW_M"
   },
   "outputs": [],
   "source": [
    "def sample(preds, temperature=1.0):\n",
    "    # helper function to sample an index from a probability array\n",
    "    preds = np.asarray(preds).astype(\"float64\")\n",
    "    preds = np.log(preds) / temperature\n",
    "    exp_preds = np.exp(preds)\n",
    "    preds = exp_preds / np.sum(exp_preds)\n",
    "    probas = np.random.multinomial(1, preds, 1)\n",
    "    return np.argmax(probas)"
   ]
  },
  {
   "cell_type": "markdown",
   "metadata": {
    "id": "0NqMnxrqU1lv"
   },
   "source": [
    "Train the model"
   ]
  },
  {
   "cell_type": "code",
   "execution_count": 5,
   "metadata": {
    "colab": {
     "base_uri": "https://localhost:8080/"
    },
    "collapsed": true,
    "executionInfo": {
     "elapsed": 3589079,
     "status": "ok",
     "timestamp": 1615385665234,
     "user": {
      "displayName": "Pau Serra",
      "photoUrl": "https://lh3.googleusercontent.com/a-/AOh14GgBw57N5cUSy043vKXlPeVV7TR7gVKDtSJHmLP2EA=s64",
      "userId": "10319710410924669414"
     },
     "user_tz": -60
    },
    "id": "riCxIAzReaLg",
    "jupyter": {
     "outputs_hidden": true
    },
    "outputId": "e6c223de-066d-4212-cf44-9fbe728ada7d"
   },
   "outputs": [
    {
     "name": "stdout",
     "output_type": "stream",
     "text": [
      "7437/7437 [==============================] - 102s 10ms/step - loss: 2.4085\n",
      "\n",
      "Epoch 00001: loss improved from inf to 2.16926, saving model to weights-improvement-2.1693.hdf5\n",
      "\n",
      "Generating text after epoch: 0\n",
      "...Diversity: 0.4\n",
      "...Generating with seed: \"rong? black liz, a huge rooste\"\n",
      "...Generated:  r of the shes the string and her thing the got to she to the down i am a will i wan the shand in the cars and the bat as the goon the sand i sown for the love we is he you are i am the way the back i was i will cain the stone get i want is i am she to but you aid the feel sean on the roon i am she it i head i was go not gram the sing to frough a do not get you be the will the the some the car some\n",
      "\n",
      "7437/7437 [==============================] - 72s 10ms/step - loss: 1.8539\n",
      "\n",
      "Epoch 00001: loss improved from 2.16926 to 1.85394, saving model to weights-improvement-1.8539.hdf5\n",
      "\n",
      "Generating text after epoch: 1\n",
      "...Diversity: 0.4\n",
      "...Generating with seed: \" my advice, take the next flig\"\n",
      "...Generated:  ht the come of the could me was i am the train the say heart and i was and i am step the start the sound i will stell the cars me the past my some in the hord i was the stopting the way she the know the and i will for  on my some and we are a be the world the stard me the for the sain love the round but i am a body in my land a pain i will could and i was a bring to the heart in the sing to the wa\n",
      "\n",
      "7437/7437 [==============================] - 72s 10ms/step - loss: 1.7415\n",
      "\n",
      "Epoch 00001: loss improved from 1.85394 to 1.74148, saving model to weights-improvement-1.7415.hdf5\n",
      "\n",
      "Generating text after epoch: 2\n",
      "...Diversity: 0.4\n",
      "...Generating with seed: \"o walks upright upon this late\"\n",
      "...Generated:  r get to she watches in the stay something the san and the stare in the stanting and the say that i am and i will be the crown that i am they want to be love come to the sing to be the pather i am not i can never world be and i will like i am not like i will see the right and i want to and i have been the saw and i want to be a more of me on the catching in the seen with me here it is so bell is b\n",
      "\n",
      "7437/7437 [==============================] - 72s 10ms/step - loss: 1.6747\n",
      "\n",
      "Epoch 00001: loss improved from 1.74148 to 1.67467, saving model to weights-improvement-1.6747.hdf5\n",
      "\n",
      "Generating text after epoch: 3\n",
      "...Diversity: 0.4\n",
      "...Generating with seed: \"ne since, like, july, nights a\"\n",
      "...Generated:  nd i want to be the gard in the start i will all the bright to the sore i stay i am a mond in the wind the sail something on the try the stander the light the seet of the back and i will be a look to the will the first lithly and love to the part the heart that is a bell i will come of and i am street the start and i am to the she is the stare the stand i the tark it is a bristes in the stars is g\n",
      "\n",
      "7437/7437 [==============================] - 72s 10ms/step - loss: 1.6297\n",
      "\n",
      "Epoch 00001: loss improved from 1.67467 to 1.62968, saving model to weights-improvement-1.6297.hdf5\n",
      "\n",
      "Generating text after epoch: 4\n",
      "...Diversity: 0.4\n",
      "...Generating with seed: \" senator kissed  say goodbye t\"\n",
      "...Generated:  o fall in your life in the night i am gonna know i want to have seen that i do not wanna know i will see the back and i am a thing to and it is not to get to stard in the start to a cold and i am some to do not go be the tain and i will be all the but the first little not a do not get and i want to stand on my one in the way the train can i am not that i am string to make a bitch the track in the \n",
      "\n",
      "7437/7437 [==============================] - 72s 10ms/step - loss: 1.5971\n",
      "\n",
      "Epoch 00001: loss improved from 1.62968 to 1.59707, saving model to weights-improvement-1.5971.hdf5\n",
      "\n",
      "Generating text after epoch: 5\n",
      "...Diversity: 0.4\n",
      "...Generating with seed: \"se the anna kills off these ra\"\n",
      "...Generated:  in in the bright come on you are got a something i am the way the street like you will be a start of you i om the friend the bright i am not a something the sun been the floor and i am the still she we are not you like a beat you are a card i would like to see the dream like the chone and i feel the pass and the light in the thing with the morning to the sail and i would let it is the way and i am\n",
      "\n",
      "7437/7437 [==============================] - 73s 10ms/step - loss: 1.5719\n",
      "\n",
      "Epoch 00001: loss improved from 1.59707 to 1.57189, saving model to weights-improvement-1.5719.hdf5\n",
      "\n",
      "Generating text after epoch: 6\n",
      "...Diversity: 0.4\n",
      "...Generating with seed: \" being angry it is a bit like \"\n",
      "...Generated:  you love me on me i do not leave me my name you you are my now i am end not for a bring i am a look acress and you are not in the with a can the there is but i will do not want your said you are got a before the wind when a sens i am stepsen and some can the first little get and i was a new in the start of some long in the garling to the some boy on the streat and now i am standing the wearly goin\n",
      "\n",
      "7437/7437 [==============================] - 72s 10ms/step - loss: 1.5517\n",
      "\n",
      "Epoch 00001: loss improved from 1.57189 to 1.55172, saving model to weights-improvement-1.5517.hdf5\n",
      "\n",
      "Generating text after epoch: 7\n",
      "...Diversity: 0.4\n",
      "...Generating with seed: \" to and fro. good! zoe and blo\"\n",
      "...Generated:  om of her she with the start of the way you are little blow the wearly in the stope in the passed the soul the man is house i am still seen the dick to something the way the can is and i will play it is man i am still standing the street and i know i am a did you want to be a man what i will all find i am singing on the street and the some and i will sinning your heart and show me the willine the \n",
      "\n",
      "7437/7437 [==============================] - 72s 10ms/step - loss: 1.5355\n",
      "\n",
      "Epoch 00001: loss improved from 1.55172 to 1.53546, saving model to weights-improvement-1.5355.hdf5\n",
      "\n",
      "Generating text after epoch: 8\n",
      "...Diversity: 0.4\n",
      "...Generating with seed: \"e the blind see i throw dust i\"\n",
      "...Generated:   wanna kiss the standing my heart standing that i never know you are the stare the stander step this heart shit back the stare of the pootand in the mounter of the sing and i will be heart and i got me and i want to know you think i will the way the first lover to her better be from the stands and i am the way that i take me it is a thing of has to the tall the world the sun and shit i want to kno\n",
      "\n",
      "7437/7437 [==============================] - 71s 10ms/step - loss: 1.5223\n",
      "\n",
      "Epoch 00001: loss improved from 1.53546 to 1.52229, saving model to weights-improvement-1.5223.hdf5\n",
      "\n",
      "Generating text after epoch: 9\n",
      "...Diversity: 0.4\n",
      "...Generating with seed: \"als of geology or the love pas\"\n",
      "...Generated:  ses his heart and the starts and the morning in the stare and the day you would be the can in love with my love is the way you want the calling and like you and i know i am the soul of the fire on the bocked and i want to be the street in the gan you the back and be the boy of the shadow white stark and a cold of the good and i am still standing i was bat stephen in the ball in love with a comes t\n",
      "\n",
      "7437/7437 [==============================] - 73s 10ms/step - loss: 1.5102\n",
      "\n",
      "Epoch 00001: loss improved from 1.52229 to 1.51023, saving model to weights-improvement-1.5102.hdf5\n",
      "\n",
      "Generating text after epoch: 10\n",
      "...Diversity: 0.4\n",
      "...Generating with seed: \"s sad and ca not run it ho i a\"\n",
      "...Generated:  m something with a man the same and i see the run in the closed in the will be she say to do not want to be the start with the stander bones from the from the man the run in the bard that i am so i have gone a little bitch to stand in the morning i am an is a the sing and i am a chost that we want the stark my things that is i will have been thing it is not the can i was so the carreat and i want \n",
      "\n",
      "7437/7437 [==============================] - 72s 10ms/step - loss: 1.5004\n",
      "\n",
      "Epoch 00001: loss improved from 1.51023 to 1.50037, saving model to weights-improvement-1.5004.hdf5\n",
      "\n",
      "Generating text after epoch: 11\n",
      "...Diversity: 0.4\n",
      "...Generating with seed: \"nking if she is coming at all \"\n",
      "...Generated:  the traps of me the bad so so have say i would retting all i make you but i know i am a little with you are the pain and i would like to be and i ca not see me in the same of the sound and i will take it is all to see the baby got the start to the sky someone see me go boy i soulf i will do not make me when you are mine i want you and i may fall in the man is gone to see the way i will can die and\n",
      "\n",
      "7437/7437 [==============================] - 73s 10ms/step - loss: 1.4918\n",
      "\n",
      "Epoch 00001: loss improved from 1.50037 to 1.49177, saving model to weights-improvement-1.4918.hdf5\n",
      "\n",
      "Generating text after epoch: 12\n",
      "...Diversity: 0.4\n",
      "...Generating with seed: \" the smell of new own hay to l\"\n",
      "...Generated:  eaded the perter in a morty the way i still that is a paint and the back i will fall the start of my baby, i am come on come on, be my boby - many be the read nothing life in the shade of something on me of love the world when i have been from the something i am still not the way that i will plone when you want me in i will be the road i want you i am and i have been great in the way i am so want \n",
      "\n",
      "7437/7437 [==============================] - 73s 10ms/step - loss: 1.4837\n",
      "\n",
      "Epoch 00001: loss improved from 1.49177 to 1.48372, saving model to weights-improvement-1.4837.hdf5\n",
      "\n",
      "Generating text after epoch: 13\n",
      "...Diversity: 0.4\n",
      "...Generating with seed: \"nd just another street kid jus\"\n",
      "...Generated:  t a not money times you are in a reardy for something that is a way to the same and the beat it is a seems and i will say the bard i am something a poor wind we will see when i am a mother some line i am all the shores and i want to know you say that burn to me and i will stay and i will be the river to a song for tome on all and i could not go breaking my heart  i am an and i am a side to see the\n",
      "\n",
      "7437/7437 [==============================] - 73s 10ms/step - loss: 1.4773\n",
      "\n",
      "Epoch 00001: loss improved from 1.48372 to 1.47731, saving model to weights-improvement-1.4773.hdf5\n",
      "\n",
      "Generating text after epoch: 14\n",
      "...Diversity: 0.4\n",
      "...Generating with seed: \"asure by letter dated the sixt\"\n",
      "...Generated:  enness i will the way you wanting the morning out the stands of compones, the diant of a can i would like to know i am the start that i am not a high in the start but you will be always to stay i see the light i will be and i will be something' there is a fore me her in the man i do not start to be like the street but they wanna see the heart that i could find you to love you so long to the pack o\n",
      "\n",
      "7437/7437 [==============================] - 74s 10ms/step - loss: 1.4713\n",
      "\n",
      "Epoch 00001: loss improved from 1.47731 to 1.47129, saving model to weights-improvement-1.4713.hdf5\n",
      "\n",
      "Generating text after epoch: 15\n",
      "...Diversity: 0.4\n",
      "...Generating with seed: \"ipplecloth, channel trousers, \"\n",
      "...Generated:  fine proman of martion and he can fame there is my man when you are a little blear the brack for the stranger this is a cold and i want to be alone and my live is we do not got me and i want you a drink of you you make me warm that is not me that i am a can i will stay that is not me that i am a so i wanna kiss the light i have seen i am the shade and i am a long to a compo in heart and said and p\n",
      "\n",
      "7437/7437 [==============================] - 72s 10ms/step - loss: 1.4666\n",
      "\n",
      "Epoch 00001: loss improved from 1.47129 to 1.46659, saving model to weights-improvement-1.4666.hdf5\n",
      "\n",
      "Generating text after epoch: 16\n",
      "...Diversity: 0.4\n",
      "...Generating with seed: \"own her pretty face and when h\"\n",
      "...Generated:  e said they have said he put me her shoulder the starts she still the way the man but when i am i will stay the start if i am not one care i am the way and i want to be a love is been the start of the man i was the one before you are some say to him on the boys be the way the bitch but i will that be the name of my life is a bell say i am not a home i am not all i am a song the flats and i ca not \n",
      "\n",
      "7437/7437 [==============================] - 74s 10ms/step - loss: 1.4611\n",
      "\n",
      "Epoch 00001: loss improved from 1.46659 to 1.46108, saving model to weights-improvement-1.4611.hdf5\n",
      "\n",
      "Generating text after epoch: 17\n",
      "...Diversity: 0.4\n",
      "...Generating with seed: \"ls all round i shame it out of\"\n",
      "...Generated:   the world to stay on the cold and i would like to know what is so no one real for the bears in the sun i am gonna see no ever living and i will be the start me on the street that she said that i will be the same to some foors more than i was the way the start i would like to be in the room to all a so on the street of the side i have been my life to the lines i have got this this boy to like the \n",
      "\n",
      "7437/7437 [==============================] - 73s 10ms/step - loss: 1.4566\n",
      "\n",
      "Epoch 00001: loss improved from 1.46108 to 1.45664, saving model to weights-improvement-1.4566.hdf5\n",
      "\n",
      "Generating text after epoch: 18\n",
      "...Diversity: 0.4\n",
      "...Generating with seed: \"in so long, oh how we have gro\"\n",
      "...Generated:  wn and i want to know the start some bar is one is the sound of the calling the tunes and the street with the song the start but i will be the truth in the man i am to the way the street and i am a saying to the table in the side i am a world and i am not the can i am so much i will stay someone said they see the start of the shadow me and i want to get no lonely when i am enough to make it in the\n",
      "\n",
      "7437/7437 [==============================] - 75s 10ms/step - loss: 1.4527\n",
      "\n",
      "Epoch 00001: loss improved from 1.45664 to 1.45273, saving model to weights-improvement-1.4527.hdf5\n",
      "\n",
      "Generating text after epoch: 19\n",
      "...Diversity: 0.4\n",
      "...Generating with seed: \"n, ned lambert, john henry men\"\n",
      "...Generated:  ters and the can and when the boys and i was the way you are all on my eyes feel all the man i see in the morning the heart it is all my money may a chance start to the right and crist something i was surd you step all out of the sky you are a part it is the only see i say street beat it is all the grants of my mother of the sing of you the feeling on a strange was man i know the same and the fire\n",
      "\n",
      "7437/7437 [==============================] - 74s 10ms/step - loss: 1.4491\n",
      "\n",
      "Epoch 00001: loss improved from 1.45273 to 1.44905, saving model to weights-improvement-1.4491.hdf5\n",
      "\n",
      "Generating text after epoch: 20\n",
      "...Diversity: 0.4\n",
      "...Generating with seed: \" we can spend the night right \"\n",
      "...Generated:  in the street i want your man i am a way and i will be working i would be a standing and my calling when i say that you want to mean that i am better that i stard in the light  the street back they said that i am the bust the sun when i will step into the corner of the stranger the toor and battle this shakes in the bought the way and in the money i am the world with my and in the foreed the face \n",
      "\n",
      "7437/7437 [==============================] - 74s 10ms/step - loss: 1.4454\n",
      "\n",
      "Epoch 00001: loss improved from 1.44905 to 1.44541, saving model to weights-improvement-1.4454.hdf5\n",
      "\n",
      "Generating text after epoch: 21\n",
      "...Diversity: 0.4\n",
      "...Generating with seed: \"ow can you stay when your hear\"\n",
      "...Generated:  t in the day a sweet hand of a inside the fame down and she was a long and i would be the street of the story and i should love you better  but i am a street with you i wo not be the street to know the train of the right of my way the can and the street of a cold feat. me & the come - dance mer - boy pressed friend  hand beat in the way i will way home i am a side is a company in the same to the s\n",
      "\n",
      "7437/7437 [==============================] - 75s 10ms/step - loss: 1.4434\n",
      "\n",
      "Epoch 00001: loss improved from 1.44541 to 1.44337, saving model to weights-improvement-1.4434.hdf5\n",
      "\n",
      "Generating text after epoch: 22\n",
      "...Diversity: 0.4\n",
      "...Generating with seed: \"h you to behave like a jinklem\"\n"
     ]
    },
    {
     "name": "stderr",
     "output_type": "stream",
     "text": [
      "/usr/local/lib/python3.7/dist-packages/ipykernel_launcher.py:4: RuntimeWarning: divide by zero encountered in log\n",
      "  after removing the cwd from sys.path.\n"
     ]
    },
    {
     "name": "stdout",
     "output_type": "stream",
     "text": [
      "...Generated:  an i think i am a silent of a coming day of the wind with my band street it is a come in your heart and the bitch of the tears and the man of the days i will say a did and i want to know the sading of the way the first little some day i do not wanna go on with you like that we see the sand i am from the sky when i am a man and the same is a blooding to love we will be a little bit with enter and c\n",
      "\n",
      "7437/7437 [==============================] - 73s 10ms/step - loss: 1.4387\n",
      "\n",
      "Epoch 00001: loss improved from 1.44337 to 1.43872, saving model to weights-improvement-1.4387.hdf5\n",
      "\n",
      "Generating text after epoch: 23\n",
      "...Diversity: 0.4\n",
      "...Generating with seed: \"le to others the few francs we\"\n",
      "...Generated:   could looked with the sun in the call beneath the way i do not be the start said the same would like the start when i would like to set to be start she was not way you are not we are too beant to find me and i would like to be and it is not got you be the veing on the stars i am shit so so i will see the can i have got the part i am on the man is the cold cold the something car the house what is \n",
      "\n",
      "7437/7437 [==============================] - 72s 10ms/step - loss: 1.4366\n",
      "\n",
      "Epoch 00001: loss improved from 1.43872 to 1.43662, saving model to weights-improvement-1.4366.hdf5\n",
      "\n",
      "Generating text after epoch: 24\n",
      "...Diversity: 0.4\n",
      "...Generating with seed: \" white, still, cool, in luxury\"\n",
      "...Generated:   burn to the shadows that is the hands and i do not see the same my mind like you will have loved you are a room the morning of the sevention i am a single white show love and i was i am a man and i will be a long boy i am all the can i am all the street to the love with a mission in the part i will show to be the back  yeah i am a singer and i am a beat it is the confent they want to see my baby \n",
      "\n",
      "7437/7437 [==============================] - 72s 10ms/step - loss: 1.4338\n",
      "\n",
      "Epoch 00001: loss improved from 1.43662 to 1.43380, saving model to weights-improvement-1.4338.hdf5\n",
      "\n",
      "Generating text after epoch: 25\n",
      "...Diversity: 0.4\n",
      "...Generating with seed: \" for indecent deity at the exp\"\n",
      "...Generated:  lain the pain is mouth for the barnes and the start i have been a money, we will leave the start i am better to me that i was in the rain but i am not back you are like a let them come on me and i am singing to all out the rain for the part the rain of my life like a bear i am not all the man i am with you the bed and i am to i want to see the past of the round the start the light i am something' \n",
      "\n",
      "7437/7437 [==============================] - 72s 10ms/step - loss: 1.4314\n",
      "\n",
      "Epoch 00001: loss improved from 1.43380 to 1.43139, saving model to weights-improvement-1.4314.hdf5\n",
      "\n",
      "Generating text after epoch: 26\n",
      "...Diversity: 0.4\n",
      "...Generating with seed: \"l, at all? bloom, tumbling, hi\"\n",
      "...Generated:  s ground the single in a caren of a canding she will with the start and the camera little things no life is not the sun who you are and i can come on the start of the while the things be a little girl and i am home on the stars that be all the sear that is the shadow of the same the wears beat her head of the crack and the part i will be like in a cold of the truth be the day i am still a short it\n",
      "\n",
      "7437/7437 [==============================] - 74s 10ms/step - loss: 1.4288\n",
      "\n",
      "Epoch 00001: loss improved from 1.43139 to 1.42878, saving model to weights-improvement-1.4288.hdf5\n",
      "\n",
      "Generating text after epoch: 27\n",
      "...Diversity: 0.4\n",
      "...Generating with seed: \"pray each day that you are gon\"\n",
      "...Generated:  na go bares the day and i want a little with my bogy who want to help the same is and i will see the farm that i would find a some thing and i would like to be it is not a homeless life for me it is just i am hones like you can that i am a bitch while the light i will come or we were bears but i have said come on married i am something i do not wanna know it is not got the showed on a sand and i g\n",
      "\n",
      "7437/7437 [==============================] - 73s 10ms/step - loss: 1.4273\n",
      "\n",
      "Epoch 00001: loss improved from 1.42878 to 1.42733, saving model to weights-improvement-1.4273.hdf5\n",
      "\n",
      "Generating text after epoch: 28\n",
      "...Diversity: 0.4\n",
      "...Generating with seed: \"on me hey baby, we can dance s\"\n",
      "...Generated:  o i will step in my way i am a break you wo not be the threar then i am to the story of the warm i should know you better now i am a singing on my heart but i need you to know the soul when i am in the marning the starts for in the hands and the can they are blows and i will be a side i have seen the way to be the same is believe i am for the street to a boy i the just to the way you look to a col\n",
      "\n",
      "7437/7437 [==============================] - 73s 10ms/step - loss: 1.4255\n",
      "\n",
      "Epoch 00001: loss improved from 1.42733 to 1.42546, saving model to weights-improvement-1.4255.hdf5\n",
      "\n",
      "Generating text after epoch: 29\n",
      "...Diversity: 0.4\n",
      "...Generating with seed: \"e, academics, yeah, that is wh\"\n",
      "...Generated:  at we want a stell of the pitches all and say that i am something' you will never learn to her said the children and i am a honeyw the bark the girl and i should hear the pitch she say step into a silenger of what the way the start for the grate and see the shadow and the way i will never fell and i am a start i am ending there is no man is not i am so now i will take a chance take me bound a craz\n",
      "\n",
      "7437/7437 [==============================] - 74s 10ms/step - loss: 1.4233\n",
      "\n",
      "Epoch 00001: loss improved from 1.42546 to 1.42333, saving model to weights-improvement-1.4233.hdf5\n",
      "\n",
      "Generating text after epoch: 30\n",
      "...Diversity: 0.4\n",
      "...Generating with seed: \"like that  oh-oh-oh who-oh who\"\n",
      "...Generated:  -oh oh yeah i am going to be worked and i have been the spurise the shadows he thanker the start start in the sky i will be living for the way we will all the beat i will be fine and i was he would have to know i was you are got you we do not wanna be the feeling i will be more than i was your eyes i am so cold up there is a bridge you can am a start like you like the sun i got a country that is t\n",
      "\n",
      "7437/7437 [==============================] - 72s 10ms/step - loss: 1.4222\n",
      "\n",
      "Epoch 00001: loss improved from 1.42333 to 1.42217, saving model to weights-improvement-1.4222.hdf5\n",
      "\n",
      "Generating text after epoch: 31\n",
      "...Diversity: 0.4\n",
      "...Generating with seed: \"a-la-la-la-laa  laa, la-la-la-\"\n",
      "...Generated:  la-laa  all am this hand i still say how this side to me to so hand i make you when i would never never took and my thing i still got a counting on the flace of a cold every side of the way that is the count it with the shadow and the time that i want to know you are a raling and i would like to be and it is not a homeless life for me i am a feeled with you and the white road, the way the piret an\n",
      "\n",
      "7437/7437 [==============================] - 73s 10ms/step - loss: 1.4202\n",
      "\n",
      "Epoch 00001: loss improved from 1.42217 to 1.42022, saving model to weights-improvement-1.4202.hdf5\n",
      "\n",
      "Generating text after epoch: 32\n",
      "...Diversity: 0.4\n",
      "...Generating with seed: \" heaven feat. solar grey 14. e\"\n",
      "...Generated:  minem- the pick and the shadera features oh he can the candle breathe and stand the bag will not be not the one mean and i was the same in the street start i am but out the baby can was the good better on the back to live the shower to the way that i want to know you better new you want the cand you are an allat the start of more that is a street be still and the sky we will leave the light i am t\n",
      "\n",
      "7437/7437 [==============================] - 74s 10ms/step - loss: 1.4186\n",
      "\n",
      "Epoch 00001: loss improved from 1.42022 to 1.41863, saving model to weights-improvement-1.4186.hdf5\n",
      "\n",
      "Generating text after epoch: 33\n",
      "...Diversity: 0.4\n",
      "...Generating with seed: \"ring us mma make these nights \"\n",
      "...Generated:  on the thee strong to the light the start to so now i am an ance the real again i have all along the start i am not no one shoulder bock in the start to stay but i want to know the dear that was do not wanna be the start in a mother and i will be true white past the train like the road it is not to get to the light i am a corn the boots to get the shadow of the stars and i will be the start i am a\n",
      "\n",
      "7437/7437 [==============================] - 73s 10ms/step - loss: 1.4179\n",
      "\n",
      "Epoch 00001: loss improved from 1.41863 to 1.41795, saving model to weights-improvement-1.4179.hdf5\n",
      "\n",
      "Generating text after epoch: 34\n",
      "...Diversity: 0.4\n",
      "...Generating with seed: \" land of the free a single and\"\n",
      "...Generated:   the while the ball of the street but i would never want to be the start for the bank men i will be so back and i will say that i am not a beat on the stars in the something' with me  who is in the same is so hold the sear of her and the clouds got her painted with the day to the money white the streets i am still street it in a canding you and the sweat we were here i am still see the king that i\n",
      "\n",
      "7437/7437 [==============================] - 75s 10ms/step - loss: 1.4195\n",
      "\n",
      "Epoch 00001: loss did not improve from 1.41795\n",
      "\n",
      "Generating text after epoch: 35\n",
      "...Diversity: 0.4\n",
      "...Generating with seed: \" never too old to hold somebod\"\n",
      "...Generated:  y is loves me and i am still standing you are my head to the way and i will be a screaming the way you are the sent to the start she is a door on the sun all on the room i am a song i am a little man i am to the stars of the light like a feat. meek mill- mellow is do not read me i am someone ear every day dear my eyes are all the things and i want to know what i was my breath and i will be so who \n",
      "\n",
      "7437/7437 [==============================] - 76s 10ms/step - loss: 1.4170\n",
      "\n",
      "Epoch 00001: loss improved from 1.41795 to 1.41703, saving model to weights-improvement-1.4170.hdf5\n",
      "\n",
      "Generating text after epoch: 36\n",
      "...Diversity: 0.4\n",
      "...Generating with seed: \"ot text him i do not call him \"\n",
      "...Generated:  in your land is all the cap of the street when i am from the cand i will be love is just a streats of the sun is heart of all the way and i will that i do not want to stay all the start in the same man i will have seen the street show like the grand and i have been ginner with the stone i will see you to be the start and i am a face i will be standing like a sign to be the start of my heart show t\n",
      "\n",
      "7437/7437 [==============================] - 76s 10ms/step - loss: 1.4149\n",
      "\n",
      "Epoch 00001: loss improved from 1.41703 to 1.41494, saving model to weights-improvement-1.4149.hdf5\n",
      "\n",
      "Generating text after epoch: 37\n",
      "...Diversity: 0.4\n",
      "...Generating with seed: \" to fuck top floor of the hote\"\n",
      "...Generated:  r stephen the start is love and the start i will fall to the star there is not to the weather think you are a street kid not the pass of the hand and i am a for the meremeles on the single here of the soft heart and a show the light that i am a silent in the sky in the stars some distart i am a sometime i see the chease belle the street and i have a seem on the crack of the song i will come all th\n",
      "\n",
      "7437/7437 [==============================] - 75s 10ms/step - loss: 1.4133\n",
      "\n",
      "Epoch 00001: loss improved from 1.41494 to 1.41331, saving model to weights-improvement-1.4133.hdf5\n",
      "\n",
      "Generating text after epoch: 38\n",
      "...Diversity: 0.4\n",
      "...Generating with seed: \"now that it is true i am feeli\"\n",
      "...Generated:  ng sighter on the start that all the sun i were life is not a farmen of a sign and cottless the street and the first loves the comeon there is a little with my rock and the wear of the fire and the conside the closer to the dead and i got the sun i would not go out of the come and i was a lift and i have got to be i have seen you better no the back there is the way that you can tell me what is all\n",
      "\n",
      "7437/7437 [==============================] - 77s 10ms/step - loss: 1.4114\n",
      "\n",
      "Epoch 00001: loss improved from 1.41331 to 1.41135, saving model to weights-improvement-1.4114.hdf5\n",
      "\n",
      "Generating text after epoch: 39\n",
      "...Diversity: 0.4\n",
      "...Generating with seed: \"ped to win our battles. got hi\"\n",
      "...Generated:  s head and a sadded of the band and i am a brack to the cares when you are a some funny side and the poloted cold cold is and the wears the short but i can see the pilot i will see you a thing i am been the crazy she is a come of the story hard i will never lied in the guels of his lights and his broomes and a discoment. the start like a lot cast a pustion to the line to come in the morning who is\n",
      "\n"
     ]
    }
   ],
   "source": [
    "epochs = 40\n",
    "batch_size = 128\n",
    "\n",
    "loss = []\n",
    "lyrics = []\n",
    "\n",
    "# define the checkpoint\n",
    "filepath=\"weights-improvement-{loss:.4f}.hdf5\"\n",
    "checkpoint = ModelCheckpoint(filepath, monitor='loss', verbose=1, save_best_only=True, mode='min')\n",
    "callbacks_list = [checkpoint]\n",
    "\n",
    "for epoch in range(epochs):\n",
    "    history = model.fit(x, y, batch_size=batch_size, epochs=1, callbacks=callbacks_list)\n",
    "    loss.append(history.history['loss'])\n",
    "    print()\n",
    "    print(\"Generating text after epoch: %d\" % epoch)\n",
    "\n",
    "    start_index = random.randint(0, len(text) - maxlen - 1)\n",
    "    for diversity in [0.4]:\n",
    "        print(\"...Diversity:\", diversity)\n",
    "\n",
    "        generated = \"\"\n",
    "        sentence = text[start_index : start_index + maxlen]\n",
    "        orig_sentence = sentence\n",
    "        print('...Generating with seed: \"' + sentence + '\"')\n",
    "\n",
    "        for i in range(400):\n",
    "            x_pred = np.zeros((1, maxlen, len(chars)))\n",
    "            for t, char in enumerate(sentence):\n",
    "                x_pred[0, t, char_indices[char]] = 1.0\n",
    "            preds = model.predict(x_pred, verbose=0)[0]\n",
    "            next_index = sample(preds, diversity)\n",
    "            next_char = indices_char[next_index]\n",
    "            sentence = sentence[1:] + next_char\n",
    "            generated += next_char\n",
    "\n",
    "        print(\"...Generated: \", generated)\n",
    "        print()\n",
    "        lyrics.append(orig_sentence + generated)"
   ]
  },
  {
   "cell_type": "markdown",
   "metadata": {},
   "source": [
    "Save the lyrics generated for each epoch"
   ]
  },
  {
   "cell_type": "code",
   "execution_count": 6,
   "metadata": {
    "executionInfo": {
     "elapsed": 801,
     "status": "ok",
     "timestamp": 1615386285020,
     "user": {
      "displayName": "Pau Serra",
      "photoUrl": "https://lh3.googleusercontent.com/a-/AOh14GgBw57N5cUSy043vKXlPeVV7TR7gVKDtSJHmLP2EA=s64",
      "userId": "10319710410924669414"
     },
     "user_tz": -60
    },
    "id": "dcRjZnVpqG9a"
   },
   "outputs": [],
   "source": [
    "text = \"\"\n",
    "i = 1\n",
    "for sentence in lyrics:\n",
    "    text += (\"Epoch \" + str(i) + \": \")\n",
    "    text += sentence\n",
    "    text += \"\\n\"\n",
    "    i += 1\n",
    "\n",
    "f = open(\"generated_lyrics.txt\", \"w\")\n",
    "f.write(text)\n",
    "f.close()"
   ]
  },
  {
   "cell_type": "code",
   "execution_count": 1,
   "metadata": {
    "executionInfo": {
     "elapsed": 1010,
     "status": "ok",
     "timestamp": 1615398226997,
     "user": {
      "displayName": "Pau Serra",
      "photoUrl": "https://lh3.googleusercontent.com/a-/AOh14GgBw57N5cUSy043vKXlPeVV7TR7gVKDtSJHmLP2EA=s64",
      "userId": "10319710410924669414"
     },
     "user_tz": -60
    },
    "id": "TsepZ4CrwvYO"
   },
   "outputs": [],
   "source": [
    "loss = [2.169255495071411,\n",
    " 1.8539432287216187,\n",
    " 1.7414838075637817,\n",
    " 1.6746668815612793,\n",
    " 1.6296756267547607,\n",
    " 1.597072720527649,\n",
    " 1.5718945264816284,\n",
    " 1.5517178773880005,\n",
    " 1.5354578495025635,\n",
    " 1.5222922563552856,\n",
    " 1.5102260112762451,\n",
    " 1.5003712177276611,\n",
    " 1.4917728900909424,\n",
    " 1.4837214946746826,\n",
    " 1.4773075580596924,\n",
    " 1.471287727355957,\n",
    " 1.4665898084640503,\n",
    " 1.4610834121704102,\n",
    " 1.4566445350646973,\n",
    " 1.452731728553772,\n",
    " 1.4490548372268677,\n",
    " 1.4454107284545898,\n",
    " 1.4433684349060059,\n",
    " 1.438715934753418,\n",
    " 1.4366194009780884,\n",
    " 1.4337952136993408,\n",
    " 1.4313877820968628,\n",
    " 1.4287751913070679,\n",
    " 1.4273289442062378,\n",
    " 1.4254627227783203,\n",
    " 1.4233325719833374,\n",
    " 1.4221727848052979,\n",
    " 1.4202240705490112,\n",
    " 1.4186313152313232,\n",
    " 1.4179480075836182,\n",
    " 1.4195438623428345,\n",
    " 1.4170284271240234,\n",
    " 1.4149377346038818,\n",
    " 1.4133071899414062,\n",
    " 1.4113527536392212]"
   ]
  },
  {
   "cell_type": "markdown",
   "metadata": {},
   "source": [
    "Plot loss metric evolution during Model Training"
   ]
  },
  {
   "cell_type": "code",
   "execution_count": 18,
   "metadata": {
    "colab": {
     "base_uri": "https://localhost:8080/",
     "height": 480
    },
    "executionInfo": {
     "elapsed": 738,
     "status": "ok",
     "timestamp": 1615398888296,
     "user": {
      "displayName": "Pau Serra",
      "photoUrl": "https://lh3.googleusercontent.com/a-/AOh14GgBw57N5cUSy043vKXlPeVV7TR7gVKDtSJHmLP2EA=s64",
      "userId": "10319710410924669414"
     },
     "user_tz": -60
    },
    "id": "DqAZyCp3edl5",
    "outputId": "0b799bf4-2cbd-4a0d-a845-cd5d7c096117"
   },
   "outputs": [
    {
     "data": {
      "image/png": "[encoded data removed]",
      "text/plain": [
       "<Figure size 720x504 with 1 Axes>"
      ]
     },
     "metadata": {
      "needs_background": "light",
      "tags": []
     },
     "output_type": "display_data"
    }
   ],
   "source": [
    "from matplotlib import pyplot as plt\n",
    "\n",
    "fig, ax = plt.subplots(figsize = (10, 7))\n",
    "ax.set_title('Model Training', fontsize=30)\n",
    "ax.set_xlabel('Epochs', fontsize=20)\n",
    "ax.set_ylabel('Loss Metric', fontsize=20)\n",
    "ax.plot(range(40), loss, c='deepskyblue', linewidth=5.0)\n",
    "plt.grid(True)\n",
    "plt.gca().set_ylim(1.3, 2.2) # set the vertical range to [0-2]\n",
    "plt.savefig('loss_evolution_30epochs.png', transparent=False)"
   ]
  },
  {
   "cell_type": "markdown",
   "metadata": {},
   "source": [
    "Save model"
   ]
  },
  {
   "cell_type": "code",
   "execution_count": 11,
   "metadata": {
    "executionInfo": {
     "elapsed": 821,
     "status": "ok",
     "timestamp": 1615386399505,
     "user": {
      "displayName": "Pau Serra",
      "photoUrl": "https://lh3.googleusercontent.com/a-/AOh14GgBw57N5cUSy043vKXlPeVV7TR7gVKDtSJHmLP2EA=s64",
      "userId": "10319710410924669414"
     },
     "user_tz": -60
    },
    "id": "4ni8SbTBrERM"
   },
   "outputs": [],
   "source": [
    "model.save('../models/lyrics_generator/model_song_generator_improved.h5')"
   ]
  },
  {
   "cell_type": "markdown",
   "metadata": {},
   "source": [
    "Load model to used in the future"
   ]
  },
  {
   "cell_type": "code",
   "execution_count": 19,
   "metadata": {
    "executionInfo": {
     "elapsed": 1519,
     "status": "ok",
     "timestamp": 1615377585403,
     "user": {
      "displayName": "Pau Serra",
      "photoUrl": "https://lh3.googleusercontent.com/a-/AOh14GgBw57N5cUSy043vKXlPeVV7TR7gVKDtSJHmLP2EA=s64",
      "userId": "10319710410924669414"
     },
     "user_tz": -60
    },
    "id": "zYYDgCYxXcYG"
   },
   "outputs": [],
   "source": [
    "new_model = keras.models.load_model('../models/lyrics_generator/model_song_generator_improved.h5')"
   ]
  }
 ],
 "metadata": {
  "accelerator": "GPU",
  "colab": {
   "authorship_tag": "ABX9TyM/1jnWEfoZIgmIaD90ufP+",
   "name": "lyrics_generator.ipynb",
   "provenance": []
  },
  "kernelspec": {
   "display_name": "myenv",
   "language": "python",
   "name": "myenv"
  },
  "language_info": {
   "codemirror_mode": {
    "name": "ipython",
    "version": 3
   },
   "file_extension": ".py",
   "mimetype": "text/x-python",
   "name": "python",
   "nbconvert_exporter": "python",
   "pygments_lexer": "ipython3",
   "version": "3.8.2"
  }
 },
 "nbformat": 4,
 "nbformat_minor": 4
}
