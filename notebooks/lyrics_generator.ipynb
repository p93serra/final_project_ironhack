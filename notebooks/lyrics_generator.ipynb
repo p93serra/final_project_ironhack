{
 "cells": [
  {
   "cell_type": "markdown",
   "metadata": {
    "id": "ialPEYsjYVjp"
   },
   "source": [
    "# Lyrics Generator - March 2021"
   ]
  },
  {
   "cell_type": "markdown",
   "metadata": {
    "id": "CrTpBrNnYdTU"
   },
   "source": [
    "Setup"
   ]
  },
  {
   "cell_type": "code",
   "execution_count": null,
   "metadata": {
    "id": "oY3UycPZYGg7"
   },
   "outputs": [],
   "source": [
    "from tensorflow import keras\n",
    "from tensorflow.keras import layers\n",
    "\n",
    "import numpy as np\n",
    "import random\n",
    "import io"
   ]
  },
  {
   "cell_type": "markdown",
   "metadata": {
    "id": "TDAmIW6zYuDQ"
   },
   "source": []
  },
  {
   "cell_type": "code",
   "execution_count": 2,
   "metadata": {
    "colab": {
     "base_uri": "https://localhost:8080/"
    },
    "id": "3KgUdzRtYuZo",
    "outputId": "b850079a-0a1a-461d-8ca4-b2167f620e22"
   },
   "outputs": [
    {
     "name": "stdout",
     "output_type": "stream",
     "text": [
      "Corpus length: 949783\n",
      "Total chars: 82\n",
      "Number of sequences: 949753\n"
     ]
    }
   ],
   "source": [
    "f = open(\"sheeran_john_lyrics.txt\", \"r\")\n",
    "text = f.read().lower()\n",
    "\n",
    "text = text.replace(\"\\n\", \" \")  # We remove newlines chars for nicer display\n",
    "print(\"Corpus length:\", len(text))\n",
    "\n",
    "chars = sorted(list(set(text)))\n",
    "print(\"Total chars:\", len(chars))\n",
    "char_indices = dict((c, i) for i, c in enumerate(chars))\n",
    "indices_char = dict((i, c) for i, c in enumerate(chars))\n",
    "\n",
    "# cut the text in semi-redundant sequences of maxlen characters\n",
    "maxlen = 30\n",
    "step = 1\n",
    "sentences = []\n",
    "next_chars = []\n",
    "for i in range(0, len(text) - maxlen, step):\n",
    "    sentences.append(text[i : i + maxlen])\n",
    "    next_chars.append(text[i + maxlen])\n",
    "print(\"Number of sequences:\", len(sentences))\n",
    "\n",
    "x = np.zeros((len(sentences), maxlen, len(chars)), dtype=np.bool)\n",
    "y = np.zeros((len(sentences), len(chars)), dtype=np.bool)\n",
    "for i, sentence in enumerate(sentences):\n",
    "    for t, char in enumerate(sentence):\n",
    "        x[i, t, char_indices[char]] = 1\n",
    "    y[i, char_indices[next_chars[i]]] = 1"
   ]
  },
  {
   "cell_type": "code",
   "execution_count": 3,
   "metadata": {
    "id": "ITuTm8Ihd-9O"
   },
   "outputs": [],
   "source": [
    "model = keras.Sequential(\n",
    "    [\n",
    "        keras.Input(shape=(maxlen, len(chars))),\n",
    "        layers.LSTM(128),\n",
    "        layers.Dense(len(chars), activation=\"softmax\"),\n",
    "    ]\n",
    ")\n",
    "optimizer = keras.optimizers.RMSprop(learning_rate=0.01)\n",
    "model.compile(loss=\"categorical_crossentropy\", optimizer=optimizer)"
   ]
  },
  {
   "cell_type": "code",
   "execution_count": 4,
   "metadata": {
    "id": "ADwic-1XeW_M"
   },
   "outputs": [],
   "source": [
    "def sample(preds, temperature=1.0):\n",
    "    # helper function to sample an index from a probability array\n",
    "    preds = np.asarray(preds).astype(\"float64\")\n",
    "    preds = np.log(preds) / temperature\n",
    "    exp_preds = np.exp(preds)\n",
    "    preds = exp_preds / np.sum(exp_preds)\n",
    "    probas = np.random.multinomial(1, preds, 1)\n",
    "    return np.argmax(probas)"
   ]
  },
  {
   "cell_type": "code",
   "execution_count": 5,
   "metadata": {
    "colab": {
     "base_uri": "https://localhost:8080/"
    },
    "id": "riCxIAzReaLg",
    "outputId": "019318fe-9d88-4151-8ccb-010f4a69c059"
   },
   "outputs": [
    {
     "name": "stdout",
     "output_type": "stream",
     "text": [
      "7420/7420 [==============================] - 69s 5ms/step - loss: 1.9151\n",
      "\n",
      "Generating text after epoch: 0\n",
      "...Diversity: 0.6\n",
      "...Generating with seed: \" play your music when the sun \"\n",
      "...Generated:  and would any time the prosent back your wild the ? kill sometime will go on me to and i can see the way i'll be one sitting on the mother of me leave you will love you like you and i live it way you want to for you. bloom (the name his fight) with right home where might stars to the room of the whore and i to preat still never hang i live and i could go on me i'll be the friend and i love to love\n",
      "\n",
      "7420/7420 [==============================] - 36s 5ms/step - loss: 1.5668\n",
      "\n",
      "Generating text after epoch: 1\n",
      "...Diversity: 0.6\n",
      "...Generating with seed: \"nder the upper hand and going \"\n",
      "...Generated:  to be the rass of the best up for they can trying to looking like the stranger street with between me and the nass i found me good expectried stephen with your side out    i like to make me that love i was brother like you stand that this in a she to the mine do it for when i got to see it mouth cause the first hater get tossed out these things some bottie and the well dear and meet in my soul up \n",
      "\n",
      "7420/7420 [==============================] - 36s 5ms/step - loss: 1.5321\n",
      "\n",
      "Generating text after epoch: 2\n",
      "...Diversity: 0.6\n",
      "...Generating with seed: \", and your make up is on my sh\"\n",
      "...Generated:  it of the mony hant light and a dill and i know he easy when i want to hear you it's home oh, i see it the morning man strange and what i thought laughing up all it's not my heart where the night in a tanded in my way you work up a little something i could much the change of mana to want me and the hands into who say the sound turn me put the jurt. stephen's in the breeze sill with stack on the pl\n",
      "\n",
      "7420/7420 [==============================] - 37s 5ms/step - loss: 1.5140\n",
      "\n",
      "Generating text after epoch: 3\n",
      "...Diversity: 0.6\n",
      "...Generating with seed: \"el killed him in anger, a forc\"\n",
      "...Generated:  hing cents tray the most we fould i'm the stop the past of a lil bind i got the so were  and i'm never we done the day head, i will be you see the back of but recain kid of your day shit of dirty now i'm cortame oh the world life we standing a sperale world of restle now, he want him with a close man and now i'm too man a home with the world all and but i need me in something that the billess is t\n",
      "\n",
      "7420/7420 [==============================] - 36s 5ms/step - loss: 1.5073\n",
      "\n",
      "Generating text after epoch: 4\n",
      "...Diversity: 0.6\n",
      "...Generating with seed: \" you and i'm cold cold cold  l\"\n",
      "...Generated:  ike it raieline the flown and i'm they kissed with some tears love to the wordway the mimondam to starting the last on the bream music no man but i can see  and i'll get a cold of your hand i was your life coming but i'll the burn it be on the mind with the left of the years they may changes and i love if in your chains 'cause you're the motic fire in the beat that were a tone i know i'm my soul g\n",
      "\n",
      "7420/7420 [==============================] - 36s 5ms/step - loss: 1.4978\n",
      "\n",
      "Generating text after epoch: 5\n",
      "...Diversity: 0.6\n",
      "...Generating with seed: \"ying to fall in love again, an\"\n",
      "...Generated:  d i'll be two bottle that a heart and i'm the lace broke and i'm like i've find a protice of the stepie all i needed you like see i've fall all the city no but i do white a back we played the green hand to do it when i can the street but you see this never be the world and the first fallin' in the start with the new read of me and brindes a thing and a fear night in a bit, when i could see this fa\n",
      "\n",
      "7420/7420 [==============================] - 36s 5ms/step - loss: 1.4917\n",
      "\n",
      "Generating text after epoch: 6\n",
      "...Diversity: 0.6\n",
      "...Generating with seed: \"’t you stay?\" she says and she\"\n"
     ]
    },
    {
     "name": "stderr",
     "output_type": "stream",
     "text": [
      "/usr/local/lib/python3.7/dist-packages/ipykernel_launcher.py:4: RuntimeWarning: divide by zero encountered in log\n",
      "  after removing the cwd from sys.path.\n"
     ]
    },
    {
     "name": "stdout",
     "output_type": "stream",
     "text": [
      "...Generated:   was something where i went and i have to be back on my soul, i love now i want to be laugh i'll make me need you and the chord cause i got one her shilling gloose downwards. what we helped your face for the wears of my crown iron they watch the calls. day double there calls to the start seems to be the just go make me take it out for you, no and you're not i'm living i'm in love while i've blow b\n",
      "\n",
      "7420/7420 [==============================] - 36s 5ms/step - loss: 1.6343\n",
      "\n",
      "Generating text after epoch: 7\n",
      "...Diversity: 0.6\n",
      "...Generating with seed: \"im of love what a fool you mad\"\n",
      "...Generated:  e his gre sight she down to go a hean thownt her fool mill jay, even to did of my the love was the browe and and yourag thes the suche when i hear you soive a fapels of gold and the stane, at a thish and i is thee .y in thes mind many bad seen you seen sheeded hinning for you flood your a) steps of find and town tire  at in the street is list, every courtris and and her to be houne whent and and i\n",
      "\n",
      "7420/7420 [==============================] - 36s 5ms/step - loss: 2.7451\n",
      "\n",
      "Generating text after epoch: 8\n",
      "...Diversity: 0.6\n",
      "...Generating with seed: \" eyes and i am home again what\"\n",
      "...Generated:  e oldnba y t fhet yt our tal  oul li(bine navc ia make or nestxssin i aok han m sohn barre toe th thth hel sodco sony min ain't in t in teod in jia  an rlomae sif  so y,ee me the anay aehvke o this felr adam oleg nig  rien tou ardn't wa o weend a t y iwlovilo thod mart lout uy, youswiget thett be(a nowh the a, tou wis saroern' bet he nev ino f leear are s thvt fet ur esal bd oe i on rtoat  alkh yo\n",
      "\n",
      "7420/7420 [==============================] - 35s 5ms/step - loss: 3.6372\n",
      "\n",
      "Generating text after epoch: 9\n",
      "...Diversity: 0.6\n",
      "...Generating with seed: \" brought the female lead to te\"\n",
      "...Generated:   ton  ienr ind natvore aes  i daingins y  taeyot las aoue ins ezy wyn  inx t au  the o t   aonim  socd   fha lasl si od a tth  keueso  r w w(iius  hj i 'e t aoe otseyj ia eu i dodo thlon ma t es tho  et aud   cleaihht  mhen an  on  oue bains  hou anesgr tm a ttouo  titt t(t a wee e ie r  sainobe alve  intne  stjo pnot el( fl t he are istif  it tha ei uynoa aon ro e win ti hpel   to ha gs itauorime\n",
      "\n",
      "7420/7420 [==============================] - 35s 5ms/step - loss: 3.3103\n",
      "\n",
      "Generating text after epoch: 10\n",
      "...Diversity: 0.6\n",
      "...Generating with seed: \"till be writing in approaching\"\n",
      "...Generated:  i in w on hs ohialy  mlh   wainw heoe e l fdoae j si oe t y  ao ieer preg tean l  toriow we kndeooos(rnrx yl  pwe m t ao vinoni w ea ng iu m iot a wl boud  ih tglewisereee    m oto w ahett ks ha burrnse  tino onn enohvhed oa nie t o,e e   fhory in    cemenee ioowt sge w bohsehe theaen yon w y  ot   reu,e   sb ahe 'n cfrvo  wr is  weerto  nnw wnnalushene ini o gyt ae tena s \" tohieeo dithrer hos as\n",
      "\n",
      "7420/7420 [==============================] - 36s 5ms/step - loss: 3.0562\n",
      "\n",
      "Generating text after epoch: 11\n",
      "...Diversity: 0.6\n",
      "...Generating with seed: \"n while the swallow and the sy\"\n",
      "...Generated:   r  eoy w mat ta.gn a  d oo ris i c n teodo tman   th tom bnd gei  at tt bt b ph thi m) ee  rm ateo h nteousc ca  tm ro-e mipiaa len rhitoio mo cg wh ans hhe releben wioyo wanee udes by w sgoruhhr mm o  che e to maoo  oenne t  hu ta-re then wane fote nl oau a   io hnki oc oosar ees a ai nf t  hn i wniktttotme, i n (d, fgamnarh anae rt aphasiiu d o onagh   iph ingroithiolo wa  ha gt e te thhinof  k\n",
      "\n",
      "7420/7420 [==============================] - 35s 5ms/step - loss: 3.0022\n",
      "\n",
      "Generating text after epoch: 12\n",
      "...Diversity: 0.6\n",
      "...Generating with seed: \" bring baby, do they bring you\"\n",
      "...Generated:  es.d e is  i fand hay tts  ccou stind lut ndva o,onouan ne ra hnob  tee ing  e tie  nisrri nl  wafee dr 'ng soo  oth  iinoudn edanedm yrre ned d  w te tone beel weaheig  e br an atfsuere  w ctue   nnat   c w eli inee loren as ne atheddl i tpi ted unerand  leo aligt til the yenolon m, ee n fo hels  mo afue ohn y w oed the set  tereain.rwintha torit hindhelea  lenin otni td  nlhrea ito t ve fitsoy s\n",
      "\n",
      "7420/7420 [==============================] - 35s 5ms/step - loss: 2.9570\n",
      "\n",
      "Generating text after epoch: 13\n",
      "...Diversity: 0.6\n",
      "...Generating with seed: \"a cosign it's red lyfe, no red\"\n",
      "...Generated:   l sn aeae thewen' t  a  b ois w ai (cai i d theh a k a gtn ihhrt fof te n   we on ire  (  foe oi e ar han dac mis   as ieou   intse  n etda ts piue oore ute eatg a np hy w t cko uul dohe h rmne  dedhin a ht  gilt o  f neht sts eat borein ' t th r 'et eoae tooh  )e ag  t a d b o toe a a m  lhl oole f t rheme ye  ooren a ee se t a n th caga ti dit ng  k e be al.e fuos wvno   at ahe s  ebutaoo flher\n",
      "\n",
      "7420/7420 [==============================] - 35s 5ms/step - loss: 2.9502\n",
      "\n",
      "Generating text after epoch: 14\n",
      "...Diversity: 0.6\n",
      "...Generating with seed: \"ed? or, put we the case, those\"\n",
      "...Generated:  r b a hhel  ti ooone   th todt tar neiouelio  pa od ldho  thhewev toau ia au t l nre g r sl e  tol m  g meflo d o  t   osen e ns fi'ar  it  t e netott hi tea g nit or  t vrea itm tan loht hoodi th h r“ylit nreainouche t tr inee y  et aro  oob  e   e vels ake ollil e eoin  wt etso  ewt  ath ul  nr toswo  narer ra t lelile t  ne tooo e d oou aur ch, i eo yo llk te sge aeiutsug w ti  n thr cin st fta\n",
      "\n",
      "7420/7420 [==============================] - 35s 5ms/step - loss: 2.9291\n",
      "\n",
      "Generating text after epoch: 15\n",
      "...Diversity: 0.6\n",
      "...Generating with seed: \"on the living part of life you\"\n",
      "...Generated:     hae er s i rn teilcesolo  o  to  to e e m nn e g n yta  iausa see a  so a re mhe te  teted  e regd  woo  atehaey h eo   me v t ynsi  ka   andoum ri    iet au'de    pyer  yt e, te e idsousme rho es thte  ahe  erso is    mnytbh pn  t  t mea dacary s     mo ckno  termin me e w tor7ome ea  l cin rioeth it  tre na aag tro ssam dle  eeo  d i ote td ho sthe.typlo pl sae s  uae a   wh   fd r  atse an y\n",
      "\n",
      "7420/7420 [==============================] - 35s 5ms/step - loss: 2.9376\n",
      "\n",
      "Generating text after epoch: 16\n",
      "...Diversity: 0.6\n",
      "...Generating with seed: \"d look like? what your mama dr\"\n",
      "...Generated:   we a iss   e e  alelsitte tel ot ss tt sth  ch veil  the e hit r gte i  so d  a  thoeel an  m  i etone.nu btthho mo oom  i ay u'.dd oengeodthmr deathl e b'l se  o go  s  ho  at  i   we y rd aoou et  ln eoet a   hvohhbt b te eo y o s iai iun) y   a faih t d e nu tit natofh ceav a spaanog eo  tooe mt   oe a  y srohl  t moroieinsl mth b eht'n s  sied itnt  ti ag oe  t n l o  ta w  tis t m ot i me m \n",
      "\n",
      "7420/7420 [==============================] - 35s 5ms/step - loss: 2.9565\n",
      "\n",
      "Generating text after epoch: 17\n",
      "...Diversity: 0.6\n",
      "...Generating with seed: \"fell in love with it all the p\"\n",
      "...Generated:   t re ur oe f mo on  il htce  ama br de, a m w inom ho  ftld oun ioy ssl tk a  on no ort ou  e 'a rreifimte fndh andvewin  wh  by ber er'ctmee  a g berogd an  ytestay  ier lgi r ut panrt e o i  ie tugg m dne  rkau er ncn ore ve ,t fee  ev rer oi iih e hbdoueeii o o  o fr t'lscb e u  rrcet  erh  hie  fwu am  e ee    ao h i d l as l nme mute stdth leno   th oy a ahnpitestee e ced t wija bkoiot ae i \n",
      "\n",
      "7420/7420 [==============================] - 35s 5ms/step - loss: 2.9600\n",
      "\n",
      "Generating text after epoch: 18\n",
      "...Diversity: 0.6\n",
      "...Generating with seed: \" find her in a bottle god, mak\"\n",
      "...Generated:   elrtlo fecr sbec  o  be l sft cor  rorgl h t ai    beit  an reim ie atht t it rthart psa,s ing lscreade citht fnrtoin wrs mu e ,aco khdters e  ioee  t) ifa to k, it holrf. a ipe rn e  wiehi tod ctatin t ae sane toh e mo o y ehs m   t oeh rin  e rhi a weruig n antondthee   edec anoe atn wh e th to s mhhti he  e  i th  i pe  t tlis a to f  r re bh i m t  ac  ytha c r t t sihel m  oo  be s y h in  r\n",
      "\n",
      "7420/7420 [==============================] - 35s 5ms/step - loss: 2.9558\n",
      "\n",
      "Generating text after epoch: 19\n",
      "...Diversity: 0.6\n",
      "...Generating with seed: \"babe let's call it quits i bel\"\n",
      "...Generated:   a  iet e on  te drs n c o a  vhn'a b iar mef (se e'  noiat ay )ee e louiroon w h sd eeerew  st ahee     yhe yci  e ein to s mstpei w h nfis t lh heso e  o  how ye a i itstaisoghs   ntaenoe faeneag st bso  t e  h f   b e idho mro iot  sstt en otho    eoeh ise  beem o  s a er  t   esg tion nnt anyn  wwutt  o so t hneoha rf l ton  a ou i tho  watr enwhd t beirrtet i tab si i ke  t  eo b l neord heer\n",
      "\n",
      "7420/7420 [==============================] - 35s 5ms/step - loss: 2.9635\n",
      "\n",
      "Generating text after epoch: 20\n",
      "...Diversity: 0.6\n",
      "...Generating with seed: \" the sublime to the ridiculous\"\n",
      "...Generated:  gesl w thn yr  yh  eem.ila too  lerhs  oc  luth ,r e'be   e ma sterou h ahn ya t tia   gal l tu tec yrs fn'e baen  fnra tae s ts itliehee ls rer ehy rrtu an  loaind in  o reutn.kd  '  nts iteeo  b l n aeu ae  yoo t we id sn t   eteotaonete o teten s h lo  d at inkt b n   ed er  oeonn t ne d ,c  oerehaci grso hn oatites n n ithe a ein ol at  ohegstoiecm s o  h a  s i tyetoe ayei eiteai ti n we t f \n",
      "\n",
      "7420/7420 [==============================] - 35s 5ms/step - loss: 2.9597\n",
      "\n",
      "Generating text after epoch: 21\n",
      "...Diversity: 0.6\n",
      "...Generating with seed: \"ack into my eyes beyond a shad\"\n",
      "...Generated:    inl tenhl mset teh( oltaut r tha th ah bhot e idu eru e st  llyn pe  bo l wia .sime coov aionnde e d tintel owt   ro n  i talteetr seowesle timl e d n t nnd  beil dei t s n  o lha hyt   erw ny ih ih t ba f oit r  s te ler  ey  sta  atn nul  cuut hb la l r ht an, yan'etabs  yithto  s 'm mura t'nnc mh tos leru hn iis, ai wl s   eoch  tyr r  hgin  to fhbnocae aa pa btsinnd iny, oha  an cl sht s   y\n",
      "\n",
      "7420/7420 [==============================] - 35s 5ms/step - loss: 2.9642\n",
      "\n",
      "Generating text after epoch: 22\n",
      "...Diversity: 0.6\n",
      "...Generating with seed: \"ing the new addresses of all t\"\n",
      "...Generated:  ha  ebne flo  f otangel   jnni aot  thht an au aa u houd no'ss eihahalnw vtae r lhe cu  igere e n olt  eien abiloobeo eo o re  yaaa e a ry  ae eoo tkon rtoe eat i noendalelt ee hione am ia    l ina a lohr  ibnd se tjte ih ay  aaa o roime gmin on vcu wo ighen or en s  aen laes v eesboy  e lnl ho dk eeoo r ulb apm ca heeant ooo r f aire anesl brsfens leto te cengrs'ol olyeg s eyu e  hid a ogie bidlo\n",
      "\n",
      "7420/7420 [==============================] - 35s 5ms/step - loss: 2.9704\n",
      "\n",
      "Generating text after epoch: 23\n",
      "...Diversity: 0.6\n",
      "...Generating with seed: \" coming back to get even i wen\"\n",
      "...Generated:   h s awalen wnin   ac gi eaelk e srtho iu yt  esr   ah e  e  es teiae aa t yeilo i aw e as   r' esheee bhaeeyein mse  ann dtu me thn mn sen ta eee sante e lnssehaof ee afon autule ttfiite e  iae  m y wetesç t  hel e ln kea'aogu ao e t m , eh fh athae n soee su e ir sh g emaaingesrfer ae l an 'uyteo.t li w w ll  acho ha u) sykota  b rit tteaeepesnas ga iees  h in nheee,ens   ahee fiharsde o dmee e \n",
      "\n",
      "7420/7420 [==============================] - 35s 5ms/step - loss: 2.9791\n",
      "\n",
      "Generating text after epoch: 24\n",
      "...Diversity: 0.6\n",
      "...Generating with seed: \"o be easy be so easy easy easy\"\n",
      "...Generated:   lieao y pte tn   n  kt ie t t rpse a poat te   taharm h cg thea e m ye   ito it mi tn ,yn  snotha pi  ch spla    thn  lli gb h bd t n tt   c gte e lnn t   htss o himr  ee  rt c td  is ho  in uut alsheth e n t aldti  dildgo  o oa h  ned thdih e td to s oun t  e ain ,n t   b t nysh t   o toasv ps in tin w   sa ttt le st  aen yoeh i  iof   tonet t   hc   aa t i eno  s h  t d t a acsf ut o t e tdm k \n",
      "\n",
      "7420/7420 [==============================] - 35s 5ms/step - loss: 2.9767\n",
      "\n",
      "Generating text after epoch: 25\n",
      "...Diversity: 0.6\n",
      "...Generating with seed: \"g a man-to-man don't want to g\"\n",
      "...Generated:  isl  ieorbat iotefnl e teaps s inatll yoahe e os  laem  e shee i t en fas' fe on ie men im iy sh se leet  am o fousnsi eel  loat  e lw9te s  a e  ae oa  d e ao i l i a le  lee  y ia fe eo nas aeh ua it e titstr   o n eut th  eahs aai a t ods  sin  'ae e en  at  l soa hoe  d ais hentr aartee y h e t o al wiau 'oe ihm tol e  ba  as x  an e i  m timede  w te  he ole  it lh   ilel ou  eaaasteo eerstme\n",
      "\n",
      "7420/7420 [==============================] - 35s 5ms/step - loss: 2.9798\n",
      "\n",
      "Generating text after epoch: 26\n",
      "...Diversity: 0.6\n",
      "...Generating with seed: \"ngue sheryl crow - everything \"\n",
      "...Generated:  i m e tow s wiheat a asta anahio  oehre  idkl ianht ih wonho  lot uo e ne looaeou n  ereraeaop mhael y h aanes gena see w al  sovd the  oa tte s he  te t of  ovyee me ge  er  i oraweaa i's  le theeea ooa neygel ya woou t fn oee eaa sy doo sho to yo a oirngefhy eae gta innge woe nerout ye oo r ,c aotho hr stowe atoe a whe  mte  tor  ori  s eaooke  tone etehf  ai wc  gtesr lhdtdeer od  aarei  e lhle\n",
      "\n",
      "7420/7420 [==============================] - 35s 5ms/step - loss: 2.9787\n",
      "\n",
      "Generating text after epoch: 27\n",
      "...Diversity: 0.6\n",
      "...Generating with seed: \"gs love and sensations voluptu\"\n",
      "...Generated:  gb f:e e ee e inct iahe e te ruroa  th  eiiea dem nl e' airenles 'a ott  fs yucdofn   uis nh as o bdor tm  rbeh   fdus th reh gu s he  in f teaetda the,aipeene aeul  i a  gei mhea 'elea harteetsadest e wcuaohit  begg  a  hded a i '  idr hu ne ble v toa m oseliy beey he crte le u soare  b seoti rdn ri w  milner ss  o i a r su  i mw aand e b iet ina i  flt f kasl bae hei n s iaeten  em a aeerrel k s\n",
      "\n",
      "7420/7420 [==============================] - 35s 5ms/step - loss: 2.9879\n",
      "\n",
      "Generating text after epoch: 28\n",
      "...Diversity: 0.6\n",
      "...Generating with seed: \" standing in a road with the g\"\n",
      "...Generated:  ch tltele oroosby b toeo  nt d web othe ad cam y  et s looo usoas htodouitunonhode  e oso aeii i w  od  re cthoi sehod wrs owrtied o rnesulh et ao e  t   h  mct ese crinordeunnt  lnlit o le la t  ostou at thott d e et  la haiwong n y  t  sdaa rea  e inr i a w   rnoordeouo awari ac o hdtoea steiuplomro ape o!ti  f cnso w tr  e lorwy uo son ah u as  s nu ao ttthese   wig csee tw eiarart yo  teldm hs\n",
      "\n",
      "7420/7420 [==============================] - 35s 5ms/step - loss: 2.9926\n",
      "\n",
      "Generating text after epoch: 29\n",
      "...Diversity: 0.6\n",
      "...Generating with seed: \"n bump mash tub sort of vicero\"\n",
      "...Generated:  n aitedin ln en tr  on are  t ig  tow  ydt ie delnoldtudloe iu e un iii re e s odoee dae eooi oads v sla  mble t sir  i on aed a e wm a b e  we se s nt a nt i b in y w ae niee cne  gemraeriee h  uird b t'lo led r  w f f rit  e t leahr ane  o yesr c lea  s   ian   re arone enee fal s o nt  ao b tdureirniieo eoreyin o be   chts eo i s i  m y le apdle b t nieo ou bou   a y aeiensu t miof ( ne  l ei c\n",
      "\n"
     ]
    }
   ],
   "source": [
    "epochs = 6\n",
    "batch_size = 128\n",
    "\n",
    "loss = []\n",
    "lyrics = []\n",
    "\n",
    "for epoch in range(epochs):\n",
    "    history = model.fit(x, y, batch_size=batch_size, epochs=1)\n",
    "    loss.append(history.history['loss'])\n",
    "    print()\n",
    "    print(\"Generating text after epoch: %d\" % epoch)\n",
    "\n",
    "    start_index = random.randint(0, len(text) - maxlen - 1)\n",
    "    for diversity in [0.6]:\n",
    "        print(\"...Diversity:\", diversity)\n",
    "\n",
    "        generated = \"\"\n",
    "        sentence = text[start_index : start_index + maxlen]\n",
    "        print('...Generating with seed: \"' + sentence + '\"')\n",
    "\n",
    "        for i in range(400):\n",
    "            x_pred = np.zeros((1, maxlen, len(chars)))\n",
    "            for t, char in enumerate(sentence):\n",
    "                x_pred[0, t, char_indices[char]] = 1.0\n",
    "            preds = model.predict(x_pred, verbose=0)[0]\n",
    "            next_index = sample(preds, diversity)\n",
    "            next_char = indices_char[next_index]\n",
    "            sentence = sentence[1:] + next_char\n",
    "            generated += next_char\n",
    "\n",
    "        print(\"...Generated: \", generated)\n",
    "        print()\n",
    "        lyrics.append(sentence + generated)"
   ]
  },
  {
   "cell_type": "code",
   "execution_count": 11,
   "metadata": {
    "id": "dcRjZnVpqG9a"
   },
   "outputs": [],
   "source": [
    "text = \"\"\n",
    "i = 1\n",
    "for sentence in lyrics:\n",
    "    text += (\"Epoch \" + str(i) + \": \")\n",
    "    text += sentence\n",
    "    text += \"\\n\"\n",
    "    i += 1\n",
    "\n",
    "f = open(\"generated_lyrics.txt\", \"w\")\n",
    "f.write(text)\n",
    "f.close()"
   ]
  },
  {
   "cell_type": "code",
   "execution_count": 10,
   "metadata": {
    "colab": {
     "base_uri": "https://localhost:8080/",
     "height": 466
    },
    "id": "DqAZyCp3edl5",
    "outputId": "b5d6f495-2e12-4f72-f859-a822ebc3a37b"
   },
   "outputs": [
    {
     "data": {
      "image/png": "[encoded data removed]",
      "text/plain": [
       "<Figure size 720x504 with 1 Axes>"
      ]
     },
     "metadata": {
      "needs_background": "light",
      "tags": []
     },
     "output_type": "display_data"
    },
    {
     "data": {
      "text/plain": [
       "<Figure size 432x288 with 0 Axes>"
      ]
     },
     "metadata": {
      "tags": []
     },
     "output_type": "display_data"
    }
   ],
   "source": [
    "from matplotlib import pyplot as plt\n",
    "\n",
    "fig, ax = plt.subplots(figsize = (10, 7))\n",
    "ax.set_title('Loss Evolution', fontsize=20)\n",
    "ax.plot(range(epochs), loss, c='blue')\n",
    "plt.grid(True)\n",
    "#plt.gca().set_ylim(0, 2) # set the vertical range to [0-2]\n",
    "plt.show()\n",
    "plt.savefig('loss_evolution_30epochs.png', transparent=True)"
   ]
  },
  {
   "cell_type": "code",
   "execution_count": null,
   "metadata": {
    "id": "4ni8SbTBrERM"
   },
   "outputs": [],
   "source": []
  }
 ],
 "metadata": {
  "accelerator": "GPU",
  "colab": {
   "name": "lyrics_generator.ipynb",
   "provenance": []
  },
  "kernelspec": {
   "display_name": "myenv",
   "language": "python",
   "name": "myenv"
  },
  "language_info": {
   "codemirror_mode": {
    "name": "ipython",
    "version": 3
   },
   "file_extension": ".py",
   "mimetype": "text/x-python",
   "name": "python",
   "nbconvert_exporter": "python",
   "pygments_lexer": "ipython3",
   "version": "3.8.2"
  }
 },
 "nbformat": 4,
 "nbformat_minor": 4
}
